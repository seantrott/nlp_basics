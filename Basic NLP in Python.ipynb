{
 "cells": [
  {
   "cell_type": "markdown",
   "metadata": {
    "slideshow": {
     "slide_type": "slide"
    }
   },
   "source": [
    "# Intro to Text Processing, NLP, and Corpus Linguistics\n",
    "\n",
    "**Sean Trott**\n",
    "\n",
    "The goal of this tutorial is to give a quick overview of some tools, libraries, and resources to help researchers interested in using **language** as a kind of data. \n",
    "\n",
    "It'll focus on:\n",
    "\n",
    "- Resources for various lexical statistics. \n",
    "- Basic text processing methods in Python.\n",
    " - Data science tools like `pandas`. \n",
    "- More powerful packages: `spaCy` and `nltk`.  "
   ]
  },
  {
   "cell_type": "markdown",
   "metadata": {
    "slideshow": {
     "slide_type": "slide"
    }
   },
   "source": [
    "## Quick caveats \n",
    "\n",
    "**Caveat (1)**: This tutorial is by no means authoritative! It simply represents some of what I've had to learn along the way in my own research, so hopefully it will be helpful to others looking to do similar things!\n",
    "\n",
    "**Caveat (2)**: The resources I mention will all be English. Some of them do exist in other languages (like WordNet or SUBTLEX). "
   ]
  },
  {
   "cell_type": "markdown",
   "metadata": {
    "slideshow": {
     "slide_type": "slide"
    }
   },
   "source": [
    "## Import relevant libraries\n",
    "\n",
    "These libraries will be useful for pretty much any data science-y project involving importing/wrangling/visualizing data. (Note that later on, we'll also import some other relevant, language-specific libraries.)"
   ]
  },
  {
   "cell_type": "code",
   "execution_count": 1,
   "metadata": {
    "slideshow": {
     "slide_type": "subslide"
    }
   },
   "outputs": [],
   "source": [
    "import matplotlib.pyplot as plt\n",
    "import pandas as pd\n",
    "import seaborn as sns\n",
    "\n",
    "%matplotlib inline\n",
    "%config InlineBackend.figure_format = 'retina'  # makes figs nicer!"
   ]
  },
  {
   "cell_type": "code",
   "execution_count": 2,
   "metadata": {
    "slideshow": {
     "slide_type": "subslide"
    }
   },
   "outputs": [],
   "source": [
    "# Progress bar!\n",
    "from tqdm import tqdm"
   ]
  },
  {
   "cell_type": "markdown",
   "metadata": {
    "slideshow": {
     "slide_type": "slide"
    }
   },
   "source": [
    "# Part 1: Useful lexical resources\n",
    "\n",
    "There are a ton of useful lexical resources out there. These might help you with:\n",
    "\n",
    "- Analyzing corpus data  \n",
    "- Creating/balancing stimuli for a psycholinguistic study\n",
    "- Studying the relationship between variables (like `Age of Acquisition` and `Frequency`)\n",
    "\n",
    "So Part 1 will involve:\n",
    "\n",
    "- Quick overview of these resources  \n",
    "- Demonstrating how to read in datasets in `pandas`  \n",
    "- Visualizing, merging, and analyzing datasets "
   ]
  },
  {
   "cell_type": "markdown",
   "metadata": {
    "slideshow": {
     "slide_type": "subslide"
    }
   },
   "source": [
    "## Partial list of useful resources\n",
    "\n",
    "There are a number of really useful, freely available resources, particularly for English lexical data.\n",
    "\n",
    "These are all resources I've benefitted greatly from: \n",
    "\n",
    "- [SUBTLEX (Brysbaert & New, 2009)](https://www.ugent.be/pp/experimentele-psychologie/en/research/documents/subtlexus): word token frequency estimates from movie subtitle corpora (50 million tokens total; ~60k word types)  \n",
    "- [CELEX (Baayen et al, 1996)](https://catalog.ldc.upenn.edu/LDC96L14): includes frequency estimates for individual lemmas, along with POS, etc.  \n",
    "- [English Lexicon Project (Balota et al, 2007)](https://elexicon.wustl.edu/): lexical decision task RT data, for ~40k real English words and ~40k non-words.  \n",
    "- [Lancaster Sensorimotor Norms (Lynott et al, 2019)](https://osf.io/7emr6/): about ~40k words, human judgments of how associated a given word is with particular sensory modalities (e.g., Vision, Audition, etc.) and effectors (e.g., Hand, Leg, etc.).  \n",
    "- [Age of Acquisition Norms (Kuperman et al, 2012)](http://crr.ugent.be/archives/806): age of aqcuisition estimates for ~30k English words. \n",
    "- [Concreteness norms (Brysbaert et al, 2014)](http://crr.ugent.be/archives/1330): concreteness norms for ~40k English words. "
   ]
  },
  {
   "cell_type": "markdown",
   "metadata": {
    "slideshow": {
     "slide_type": "slide"
    }
   },
   "source": [
    "## Example 1: Working with Frequency data\n",
    "\n",
    "Let's start with SUBTLEX, which contains word token frequency estimates from English movie subtitles. \n",
    "\n",
    "Lexical frequency is often important in experiments:\n",
    "\n",
    "- matching frequency across stimuli sets\n",
    "- predicting RT\n",
    "- and more!\n",
    "\n",
    "I've included a `.csv` file of the SUBTLEX data in this repository, so you should be able to load it if you've cloned the repository on your computer.\n",
    "\n",
    "First, we call the `read_csv` function from the `pandas` library, and pass in the *filepath*. This will create a `DataFrame` object---which is really well-suited to working with large, tabular datasets."
   ]
  },
  {
   "cell_type": "code",
   "execution_count": 3,
   "metadata": {
    "slideshow": {
     "slide_type": "subslide"
    }
   },
   "outputs": [
    {
     "data": {
      "text/plain": [
       "60384"
      ]
     },
     "execution_count": 3,
     "metadata": {},
     "output_type": "execute_result"
    }
   ],
   "source": [
    "# Read in the dataframe\n",
    "df_subtlex = pd.read_csv(\"data/english_subtlex.csv\")\n",
    "# How big is the dataset?\n",
    "len(df_subtlex)"
   ]
  },
  {
   "cell_type": "markdown",
   "metadata": {
    "slideshow": {
     "slide_type": "subslide"
    }
   },
   "source": [
    "We can also see exactly what the dataframe looks like by calling the `head` function. This will print out a nice table of the first `N` rows, giving us the ability to see which columns the data includes. The [documentation](https://www.ugent.be/pp/experimentele-psychologie/en/research/documents/subtlexus) tells us that this dataset should contain the following rows:\n",
    "\n",
    "- `Word`: the word!\n",
    "- `Freqcount`: #times the word appears in the corpus.  \n",
    "- `CDcount`: the number of films in which the word appears.  \n",
    "- `Freqlow`: number of times the word appears starting with a lowercase letter.  \n",
    "- `CDlow`: number of films in which word appears starting with a lowercase letter.  \n",
    "- `SUBTLWF`: word frequency, per million words.  \n",
    "- `Lg10WF`: equivalent to `log10(Freqcount + 1)`, with four-digit precision.  \n",
    "- `SUBTLCD`: in how many percent of the films the word appears. \n",
    "- `Lg10CD`: equivalent to `log10(CDcount + 1)`. "
   ]
  },
  {
   "cell_type": "code",
   "execution_count": 4,
   "metadata": {
    "slideshow": {
     "slide_type": "subslide"
    }
   },
   "outputs": [
    {
     "data": {
      "text/html": [
       "<div>\n",
       "<style scoped>\n",
       "    .dataframe tbody tr th:only-of-type {\n",
       "        vertical-align: middle;\n",
       "    }\n",
       "\n",
       "    .dataframe tbody tr th {\n",
       "        vertical-align: top;\n",
       "    }\n",
       "\n",
       "    .dataframe thead th {\n",
       "        text-align: right;\n",
       "    }\n",
       "</style>\n",
       "<table border=\"1\" class=\"dataframe\">\n",
       "  <thead>\n",
       "    <tr style=\"text-align: right;\">\n",
       "      <th></th>\n",
       "      <th>Word</th>\n",
       "      <th>FREQcount</th>\n",
       "      <th>CDcount</th>\n",
       "      <th>FREQlow</th>\n",
       "      <th>Cdlow</th>\n",
       "      <th>SUBTLWF</th>\n",
       "      <th>Lg10WF</th>\n",
       "      <th>SUBTLCD</th>\n",
       "      <th>Lg10CD</th>\n",
       "    </tr>\n",
       "  </thead>\n",
       "  <tbody>\n",
       "    <tr>\n",
       "      <th>0</th>\n",
       "      <td>the</td>\n",
       "      <td>1501908</td>\n",
       "      <td>8388</td>\n",
       "      <td>1339811</td>\n",
       "      <td>8388</td>\n",
       "      <td>29449.18</td>\n",
       "      <td>6.1766</td>\n",
       "      <td>100.00</td>\n",
       "      <td>3.9237</td>\n",
       "    </tr>\n",
       "    <tr>\n",
       "      <th>1</th>\n",
       "      <td>to</td>\n",
       "      <td>1156570</td>\n",
       "      <td>8383</td>\n",
       "      <td>1138435</td>\n",
       "      <td>8380</td>\n",
       "      <td>22677.84</td>\n",
       "      <td>6.0632</td>\n",
       "      <td>99.94</td>\n",
       "      <td>3.9235</td>\n",
       "    </tr>\n",
       "    <tr>\n",
       "      <th>2</th>\n",
       "      <td>a</td>\n",
       "      <td>1041179</td>\n",
       "      <td>8382</td>\n",
       "      <td>976941</td>\n",
       "      <td>8380</td>\n",
       "      <td>20415.27</td>\n",
       "      <td>6.0175</td>\n",
       "      <td>99.93</td>\n",
       "      <td>3.9234</td>\n",
       "    </tr>\n",
       "    <tr>\n",
       "      <th>3</th>\n",
       "      <td>you</td>\n",
       "      <td>2134713</td>\n",
       "      <td>8381</td>\n",
       "      <td>1595028</td>\n",
       "      <td>8376</td>\n",
       "      <td>41857.12</td>\n",
       "      <td>6.3293</td>\n",
       "      <td>99.92</td>\n",
       "      <td>3.9233</td>\n",
       "    </tr>\n",
       "    <tr>\n",
       "      <th>4</th>\n",
       "      <td>and</td>\n",
       "      <td>682780</td>\n",
       "      <td>8379</td>\n",
       "      <td>515365</td>\n",
       "      <td>8374</td>\n",
       "      <td>13387.84</td>\n",
       "      <td>5.8343</td>\n",
       "      <td>99.89</td>\n",
       "      <td>3.9232</td>\n",
       "    </tr>\n",
       "  </tbody>\n",
       "</table>\n",
       "</div>"
      ],
      "text/plain": [
       "  Word  FREQcount  CDcount  FREQlow  Cdlow   SUBTLWF  Lg10WF  SUBTLCD  Lg10CD\n",
       "0  the    1501908     8388  1339811   8388  29449.18  6.1766   100.00  3.9237\n",
       "1   to    1156570     8383  1138435   8380  22677.84  6.0632    99.94  3.9235\n",
       "2    a    1041179     8382   976941   8380  20415.27  6.0175    99.93  3.9234\n",
       "3  you    2134713     8381  1595028   8376  41857.12  6.3293    99.92  3.9233\n",
       "4  and     682780     8379   515365   8374  13387.84  5.8343    99.89  3.9232"
      ]
     },
     "execution_count": 4,
     "metadata": {},
     "output_type": "execute_result"
    }
   ],
   "source": [
    "df_subtlex.head(5)"
   ]
  },
  {
   "cell_type": "markdown",
   "metadata": {
    "slideshow": {
     "slide_type": "subslide"
    }
   },
   "source": [
    "### Visualizing frequency data\n",
    "\n",
    "We can also create some simple visualizations of the data. Let's start with just the raw counts:"
   ]
  },
  {
   "cell_type": "code",
   "execution_count": 5,
   "metadata": {
    "scrolled": false,
    "slideshow": {
     "slide_type": "subslide"
    }
   },
   "outputs": [
    {
     "data": {
      "text/plain": [
       "(array([6.0341e+04, 2.7000e+01, 6.0000e+00, 3.0000e+00, 3.0000e+00,\n",
       "        1.0000e+00, 0.0000e+00, 1.0000e+00, 0.0000e+00, 2.0000e+00]),\n",
       " array([2.0000000e+00, 2.1347310e+05, 4.2694420e+05, 6.4041530e+05,\n",
       "        8.5388640e+05, 1.0673575e+06, 1.2808286e+06, 1.4942997e+06,\n",
       "        1.7077708e+06, 1.9212419e+06, 2.1347130e+06]),\n",
       " <a list of 10 Patch objects>)"
      ]
     },
     "execution_count": 5,
     "metadata": {},
     "output_type": "execute_result"
    },
    {
     "data": {
      "image/png": "[encoded data removed]",
      "text/plain": [
       "<Figure size 432x288 with 1 Axes>"
      ]
     },
     "metadata": {
      "image/png": {
       "height": 250,
       "width": 390
      },
      "needs_background": "light"
     },
     "output_type": "display_data"
    }
   ],
   "source": [
    "# Use matplotlib to make a histogram of counts\n",
    "plt.hist(df_subtlex['FREQcount'])"
   ]
  },
  {
   "cell_type": "markdown",
   "metadata": {
    "slideshow": {
     "slide_type": "subslide"
    }
   },
   "source": [
    "**What's going on here?**\n",
    "\n",
    "Because frequency is extremely right-skewed (a small number of words are very frequent, and most words are much less frequent), it'll be hard to visualize the raw counts.\n",
    "\n",
    "Thus, frequency is often analyzed (and visualized) as its **log**:"
   ]
  },
  {
   "cell_type": "code",
   "execution_count": 6,
   "metadata": {
    "scrolled": false,
    "slideshow": {
     "slide_type": "subslide"
    }
   },
   "outputs": [
    {
     "data": {
      "text/plain": [
       "(array([2.5347e+04, 1.6087e+04, 1.0149e+04, 5.1570e+03, 2.3220e+03,\n",
       "        8.2300e+02, 3.3000e+02, 1.0600e+02, 5.2000e+01, 1.1000e+01]),\n",
       " array([0.4771 , 1.06232, 1.64754, 2.23276, 2.81798, 3.4032 , 3.98842,\n",
       "        4.57364, 5.15886, 5.74408, 6.3293 ]),\n",
       " <a list of 10 Patch objects>)"
      ]
     },
     "execution_count": 6,
     "metadata": {},
     "output_type": "execute_result"
    },
    {
     "data": {
      "image/png": "[encoded data removed]",
      "text/plain": [
       "<Figure size 432x288 with 1 Axes>"
      ]
     },
     "metadata": {
      "image/png": {
       "height": 250,
       "width": 390
      },
      "needs_background": "light"
     },
     "output_type": "display_data"
    }
   ],
   "source": [
    "# Histogram of *log* frequencies\n",
    "plt.hist(df_subtlex['Lg10WF'])"
   ]
  },
  {
   "cell_type": "markdown",
   "metadata": {
    "slideshow": {
     "slide_type": "subslide"
    }
   },
   "source": [
    "### Zipf's law\n",
    "\n",
    "Famously, [Zipf's law](https://en.wikipedia.org/wiki/Zipf%27s_law) states that word frequency is **inversely proportional** to the *rank frequency* of a word. When visualized, `Frequency ~ Rank(Frequency)` exhibits a classic [power law](https://en.wikipedia.org/wiki/Power_law) relationship. We can visualize that here.\n",
    "\n",
    "First, we need to calculate **rank frequency**. Fortunately, `pandas` has a built-in function to calculate this:"
   ]
  },
  {
   "cell_type": "code",
   "execution_count": 7,
   "metadata": {
    "slideshow": {
     "slide_type": "subslide"
    }
   },
   "outputs": [],
   "source": [
    "# Use {column}.rank to frequency in reverse order\n",
    "df_subtlex['rank_frequency'] = df_subtlex['Lg10WF'].rank(ascending = False)"
   ]
  },
  {
   "cell_type": "code",
   "execution_count": 8,
   "metadata": {
    "slideshow": {
     "slide_type": "subslide"
    }
   },
   "outputs": [
    {
     "name": "stderr",
     "output_type": "stream",
     "text": [
      "/Users/seantrott/anaconda3/lib/python3.7/site-packages/scipy/stats/stats.py:1713: FutureWarning: Using a non-tuple sequence for multidimensional indexing is deprecated; use `arr[tuple(seq)]` instead of `arr[seq]`. In the future this will be interpreted as an array index, `arr[np.array(seq)]`, which will result either in an error or a different result.\n",
      "  return np.add.reduce(sorted[indexer] * weights, axis=axis) / sumval\n"
     ]
    },
    {
     "data": {
      "text/plain": [
       "Text(0.5, 1.0, '1000 most frequent English words')"
      ]
     },
     "execution_count": 8,
     "metadata": {},
     "output_type": "execute_result"
    },
    {
     "data": {
      "image/png": "[encoded data removed]",
      "text/plain": [
       "<Figure size 432x288 with 1 Axes>"
      ]
     },
     "metadata": {
      "image/png": {
       "height": 277,
       "width": 387
      },
      "needs_background": "light"
     },
     "output_type": "display_data"
    }
   ],
   "source": [
    "# Now visualize relationship for top 1000 words\n",
    "sns.lineplot(data = df_subtlex[df_subtlex['rank_frequency'] <1000],\n",
    "            x = 'rank_frequency',\n",
    "            y = 'Lg10WF')\n",
    "\n",
    "plt.xlabel(\"Frequency Rank\")\n",
    "plt.ylabel(\"Log(Frequency)\")\n",
    "plt.title(\"1000 most frequent English words\")"
   ]
  },
  {
   "cell_type": "markdown",
   "metadata": {
    "slideshow": {
     "slide_type": "subslide"
    }
   },
   "source": [
    "### Zipf's law (pt. 2)\n",
    "\n",
    "There's been a ton of great work trying to model **Zipf's law of frequency**, which is typically represented by the function:\n",
    "\n",
    "$F(w) = \\frac{a}{r(w)^b}$\n",
    "\n",
    "Where:\n",
    "\n",
    "- $F(w)$ is the **frequency** of the word  \n",
    "- $r(w)$ is the **rank frequency** of the word \n",
    "- $a$ and $b$ are **learned parameters** relating rank frequency to actual frequency  \n",
    " - $a$ is the estimate for $F(w)$ when $r(w) = 1$  \n",
    " - $b$ parameterizes the curve's **decay rate**.  \n",
    "\n",
    "Below, I have a quick example of fitting these parameters using `scipy.optimize.curve_fit`."
   ]
  },
  {
   "cell_type": "code",
   "execution_count": 9,
   "metadata": {
    "slideshow": {
     "slide_type": "subslide"
    }
   },
   "outputs": [],
   "source": [
    "# First, we define a function representing Zipf's law\n",
    "def zipf(x, a, b):\n",
    "    \"\"\"Zipf's law, where x = rank, and a&b are the parameters to learn.\"\"\"\n",
    "    return a / (x**b)"
   ]
  },
  {
   "cell_type": "code",
   "execution_count": 10,
   "metadata": {
    "slideshow": {
     "slide_type": "subslide"
    }
   },
   "outputs": [],
   "source": [
    "## Let's set up our x and y variables\n",
    "df_frequencies_top_n = df_subtlex[df_subtlex['rank_frequency']<1000]\n",
    "x = df_frequencies_top_n['rank_frequency'].values\n",
    "y = df_frequencies_top_n['Lg10WF'].values"
   ]
  },
  {
   "cell_type": "code",
   "execution_count": 11,
   "metadata": {
    "slideshow": {
     "slide_type": "subslide"
    }
   },
   "outputs": [
    {
     "data": {
      "text/plain": [
       "array([7.87104712, 0.11029162])"
      ]
     },
     "execution_count": 11,
     "metadata": {},
     "output_type": "execute_result"
    }
   ],
   "source": [
    "from scipy.optimize import curve_fit\n",
    "\n",
    "## Use 'curve_fit' to fit our actual data to this function\n",
    "z_popt, z_pcov = curve_fit(zipf, x, y)\n",
    "## Our estimated *parameters*\n",
    "z_popt"
   ]
  },
  {
   "cell_type": "code",
   "execution_count": 12,
   "metadata": {
    "slideshow": {
     "slide_type": "subslide"
    }
   },
   "outputs": [
    {
     "name": "stderr",
     "output_type": "stream",
     "text": [
      "/Users/seantrott/anaconda3/lib/python3.7/site-packages/ipykernel_launcher.py:4: SettingWithCopyWarning: \n",
      "A value is trying to be set on a copy of a slice from a DataFrame.\n",
      "Try using .loc[row_indexer,col_indexer] = value instead\n",
      "\n",
      "See the caveats in the documentation: http://pandas.pydata.org/pandas-docs/stable/indexing.html#indexing-view-versus-copy\n",
      "  after removing the cwd from sys.path.\n"
     ]
    }
   ],
   "source": [
    "# We can then use these learned parameters to generate predictions\n",
    "y_pred = zipf(x, *z_popt)\n",
    "# Assign to new column in dataframe\n",
    "df_frequencies_top_n['y_pred'] = y_pred"
   ]
  },
  {
   "cell_type": "code",
   "execution_count": 13,
   "metadata": {
    "slideshow": {
     "slide_type": "subslide"
    }
   },
   "outputs": [
    {
     "data": {
      "text/plain": [
       "Text(0.5, 1.0, \"Zipf's law of frequency\")"
      ]
     },
     "execution_count": 13,
     "metadata": {},
     "output_type": "execute_result"
    },
    {
     "data": {
      "image/png": "[encoded data removed]",
      "text/plain": [
       "<Figure size 432x288 with 1 Axes>"
      ]
     },
     "metadata": {
      "image/png": {
       "height": 277,
       "width": 378
      },
      "needs_background": "light"
     },
     "output_type": "display_data"
    }
   ],
   "source": [
    "# We could also plot the *normalized* log frequency on the y-axis\n",
    "# This relationship is called *Zipf's Law*\n",
    "sns.lineplot(data = df_frequencies_top_n,\n",
    "            x = 'rank_frequency',\n",
    "            y = 'Lg10WF',\n",
    "            label = \"Real values\")\n",
    "\n",
    "sns.lineplot(data = df_frequencies_top_n,\n",
    "            x = 'rank_frequency',\n",
    "            y = 'y_pred',\n",
    "            label = \"Predictions\")\n",
    "\n",
    "plt.title(\"Zipf's law of frequency\")"
   ]
  },
  {
   "cell_type": "markdown",
   "metadata": {
    "slideshow": {
     "slide_type": "slide"
    }
   },
   "source": [
    "## Controlling and matching stimuli\n",
    "\n",
    "So that was a brief detour into modeling frequency data.\n",
    "\n",
    "What else might you use these frequency estimates for?\n",
    "\n",
    "Among other things, a common use for psycholinguists designing their own experiment is to **match** stimuli for something like word frequency. This is useful if you want to balance across conditions, or match filler items. "
   ]
  },
  {
   "cell_type": "markdown",
   "metadata": {
    "slideshow": {
     "slide_type": "subslide"
    }
   },
   "source": [
    "### Generating critical items\n",
    "\n",
    "To make this a little simpler, let's just randomly sample words from our frequency dataset, and pretend those are the items we're interested in."
   ]
  },
  {
   "cell_type": "code",
   "execution_count": 14,
   "metadata": {
    "slideshow": {
     "slide_type": "subslide"
    }
   },
   "outputs": [
    {
     "data": {
      "text/plain": [
       "array(['fellows', 'Euripides', 'reemphasize', 'visual', 'whirling',\n",
       "       'slashing', 'scapula', 'hover', 'misheard', 'swells', 'virtuoso',\n",
       "       'hypnotizes', 'supermom', 'testimonials', 'Dongs', 'shoehorn',\n",
       "       'cosmically', 'debug', 'Bordeaux', 'snorkeling', 'cloudless',\n",
       "       'grinds', 'scuttle', 'fantasized', 'woodworking', 'sovereigns',\n",
       "       'reorganized', 'sags', 'Grandee', 'Salvor', 'crinoid', 'pruning',\n",
       "       'fabric', 'citrus', 'heliotrope', 'makeups', 'unofficially',\n",
       "       'sorry', 'cosmetics', 'Clio', 'teleport', 'gunnysack', 'rococo',\n",
       "       'unmatched', 'Marilyn', 'overqualified', 'lawyerly', 'recliner',\n",
       "       'squirreled', 'ankh', 'shifts', 'Crete', 'slayer', 'quackeries',\n",
       "       'Triassic', 'bribing', 'Pix', 'blacklist', 'spackle',\n",
       "       'subcontractor', 'occasioned', 'baptised', 'Benzine', 'tumbles',\n",
       "       'employee', 'corks', 'Captioning', 'sorter', 'spur', 'communistic',\n",
       "       'combative', 'amps', 'byte', 'phosphorescence', 'reshoots',\n",
       "       'chitlins', 'awake', 'infinitives', 'elucidation', 'ricocheted',\n",
       "       'tremendously', 'bootees', 'goalie', 'grump', 'scoping',\n",
       "       'dialling', 'tornado', 'bruja', 'undertaking', 'upbringings',\n",
       "       'shortcuts', 'unquote', 'truculent', 'Esperanto', 'therapists',\n",
       "       'alternates', 'overlapping', 'demented', 'knocking',\n",
       "       'receptionists'], dtype=object)"
      ]
     },
     "execution_count": 14,
     "metadata": {},
     "output_type": "execute_result"
    }
   ],
   "source": [
    "critical_items = df_subtlex['Word'].sample(100, random_state = 10).values\n",
    "critical_items"
   ]
  },
  {
   "cell_type": "markdown",
   "metadata": {
    "slideshow": {
     "slide_type": "subslide"
    }
   },
   "source": [
    "### Get frequency estimates for these words\n",
    "\n",
    "Note that we *could've* just sampled the frequency information along with the words themselves, but I'm trying to make this harder!\n",
    "\n",
    "Let's start by turning those critical words into a dataframe."
   ]
  },
  {
   "cell_type": "code",
   "execution_count": 15,
   "metadata": {
    "slideshow": {
     "slide_type": "subslide"
    }
   },
   "outputs": [
    {
     "data": {
      "text/html": [
       "<div>\n",
       "<style scoped>\n",
       "    .dataframe tbody tr th:only-of-type {\n",
       "        vertical-align: middle;\n",
       "    }\n",
       "\n",
       "    .dataframe tbody tr th {\n",
       "        vertical-align: top;\n",
       "    }\n",
       "\n",
       "    .dataframe thead th {\n",
       "        text-align: right;\n",
       "    }\n",
       "</style>\n",
       "<table border=\"1\" class=\"dataframe\">\n",
       "  <thead>\n",
       "    <tr style=\"text-align: right;\">\n",
       "      <th></th>\n",
       "      <th>Word</th>\n",
       "    </tr>\n",
       "  </thead>\n",
       "  <tbody>\n",
       "    <tr>\n",
       "      <th>0</th>\n",
       "      <td>fellows</td>\n",
       "    </tr>\n",
       "    <tr>\n",
       "      <th>1</th>\n",
       "      <td>Euripides</td>\n",
       "    </tr>\n",
       "    <tr>\n",
       "      <th>2</th>\n",
       "      <td>reemphasize</td>\n",
       "    </tr>\n",
       "    <tr>\n",
       "      <th>3</th>\n",
       "      <td>visual</td>\n",
       "    </tr>\n",
       "    <tr>\n",
       "      <th>4</th>\n",
       "      <td>whirling</td>\n",
       "    </tr>\n",
       "  </tbody>\n",
       "</table>\n",
       "</div>"
      ],
      "text/plain": [
       "          Word\n",
       "0      fellows\n",
       "1    Euripides\n",
       "2  reemphasize\n",
       "3       visual\n",
       "4     whirling"
      ]
     },
     "execution_count": 15,
     "metadata": {},
     "output_type": "execute_result"
    }
   ],
   "source": [
    "df_critical = pd.DataFrame(critical_items, columns=['Word'])\n",
    "df_critical.head(5)"
   ]
  },
  {
   "cell_type": "code",
   "execution_count": 16,
   "metadata": {
    "slideshow": {
     "slide_type": "subslide"
    }
   },
   "outputs": [
    {
     "data": {
      "text/html": [
       "<div>\n",
       "<style scoped>\n",
       "    .dataframe tbody tr th:only-of-type {\n",
       "        vertical-align: middle;\n",
       "    }\n",
       "\n",
       "    .dataframe tbody tr th {\n",
       "        vertical-align: top;\n",
       "    }\n",
       "\n",
       "    .dataframe thead th {\n",
       "        text-align: right;\n",
       "    }\n",
       "</style>\n",
       "<table border=\"1\" class=\"dataframe\">\n",
       "  <thead>\n",
       "    <tr style=\"text-align: right;\">\n",
       "      <th></th>\n",
       "      <th>Word</th>\n",
       "      <th>Lg10WF</th>\n",
       "    </tr>\n",
       "  </thead>\n",
       "  <tbody>\n",
       "    <tr>\n",
       "      <th>0</th>\n",
       "      <td>fellows</td>\n",
       "      <td>2.8306</td>\n",
       "    </tr>\n",
       "    <tr>\n",
       "      <th>1</th>\n",
       "      <td>Euripides</td>\n",
       "      <td>0.9031</td>\n",
       "    </tr>\n",
       "    <tr>\n",
       "      <th>2</th>\n",
       "      <td>reemphasize</td>\n",
       "      <td>0.4771</td>\n",
       "    </tr>\n",
       "    <tr>\n",
       "      <th>3</th>\n",
       "      <td>visual</td>\n",
       "      <td>2.7686</td>\n",
       "    </tr>\n",
       "    <tr>\n",
       "      <th>4</th>\n",
       "      <td>whirling</td>\n",
       "      <td>1.5563</td>\n",
       "    </tr>\n",
       "  </tbody>\n",
       "</table>\n",
       "</div>"
      ],
      "text/plain": [
       "          Word  Lg10WF\n",
       "0      fellows  2.8306\n",
       "1    Euripides  0.9031\n",
       "2  reemphasize  0.4771\n",
       "3       visual  2.7686\n",
       "4     whirling  1.5563"
      ]
     },
     "execution_count": 16,
     "metadata": {},
     "output_type": "execute_result"
    }
   ],
   "source": [
    "# Now we can just call `pd.merge` on our frequency data.\n",
    "df_merged = pd.merge(df_critical, \n",
    "                     df_subtlex[['Word', 'Lg10WF']], \n",
    "                     on=\"Word\")\n",
    "df_merged.head(5)"
   ]
  },
  {
   "cell_type": "code",
   "execution_count": 17,
   "metadata": {
    "slideshow": {
     "slide_type": "subslide"
    }
   },
   "outputs": [
    {
     "data": {
      "text/plain": [
       "(array([35., 22., 26.,  8.,  2.,  5.,  1.,  0.,  0.,  1.]),\n",
       " array([0.4771 , 0.90689, 1.33668, 1.76647, 2.19626, 2.62605, 3.05584,\n",
       "        3.48563, 3.91542, 4.34521, 4.775  ]),\n",
       " <a list of 10 Patch objects>)"
      ]
     },
     "execution_count": 17,
     "metadata": {},
     "output_type": "execute_result"
    },
    {
     "data": {
      "image/png": "[encoded data removed]",
      "text/plain": [
       "<Figure size 432x288 with 1 Axes>"
      ]
     },
     "metadata": {
      "image/png": {
       "height": 250,
       "width": 370
      },
      "needs_background": "light"
     },
     "output_type": "display_data"
    }
   ],
   "source": [
    "plt.hist(df_merged['Lg10WF'], label = \"critical\", alpha = .6, color = \"gray\")"
   ]
  },
  {
   "cell_type": "markdown",
   "metadata": {
    "slideshow": {
     "slide_type": "subslide"
    }
   },
   "source": [
    "### Find matched words\n",
    "\n",
    "Now comes the tricky part. We need to identify *another* set of 100 words in our frequency dataset that matches the frequency distribution above.\n",
    "\n",
    "How can we do this?"
   ]
  },
  {
   "cell_type": "markdown",
   "metadata": {
    "slideshow": {
     "slide_type": "subslide"
    }
   },
   "source": [
    "### Find matched words\n",
    "\n",
    "Here's one solution.\n",
    "\n",
    "For each critical word:\n",
    "\n",
    "1. Identify candidate words within some `THRESHOLD` of the target word.  \n",
    "2. Randomly sample from this set of candidate words, and keep track of that sampled item.  \n",
    "\n",
    "Now repeat 1-2 for each target word, making sure we don't sample the same word twice."
   ]
  },
  {
   "cell_type": "code",
   "execution_count": 18,
   "metadata": {
    "slideshow": {
     "slide_type": "subslide"
    }
   },
   "outputs": [],
   "source": [
    "sampled = [] ## Keep track of the words we've sampled already\n",
    "FREQ_THRESHOLD = 1 ## Feel free to play around with the stringency of our threshold\n",
    "fillers = []"
   ]
  },
  {
   "cell_type": "code",
   "execution_count": 19,
   "metadata": {
    "slideshow": {
     "slide_type": "subslide"
    }
   },
   "outputs": [],
   "source": [
    "for index, row in df_merged.iterrows(): ## This will iterate through each *row* of our critical dataframe\n",
    "    freq = row['Lg10WF']\n",
    "        \n",
    "    # Now filter our subtlex dataframe to words with frequency values in the appropriate range\n",
    "    df_tmp = df_subtlex[(df_subtlex['Lg10WF']<freq+FREQ_THRESHOLD)&(df_subtlex['Lg10WF']>freq-FREQ_THRESHOLD)]\n",
    "    \n",
    "    # FOR PRACTICE:\n",
    "    # How would you also match for POS, Concreteness, AoA, ...?\n",
    "    \n",
    "    # Now sample from that dataframe\n",
    "    while True:\n",
    "        filler_row = df_tmp.sample(n = 1)\n",
    "        if filler_row['Word'].iloc[0] not in sampled:\n",
    "            fillers.append(filler_row)\n",
    "            sampled.append(filler_row['Word'].iloc[0])\n",
    "            break\n",
    "    "
   ]
  },
  {
   "cell_type": "code",
   "execution_count": 20,
   "metadata": {
    "slideshow": {
     "slide_type": "subslide"
    }
   },
   "outputs": [
    {
     "data": {
      "text/html": [
       "<div>\n",
       "<style scoped>\n",
       "    .dataframe tbody tr th:only-of-type {\n",
       "        vertical-align: middle;\n",
       "    }\n",
       "\n",
       "    .dataframe tbody tr th {\n",
       "        vertical-align: top;\n",
       "    }\n",
       "\n",
       "    .dataframe thead th {\n",
       "        text-align: right;\n",
       "    }\n",
       "</style>\n",
       "<table border=\"1\" class=\"dataframe\">\n",
       "  <thead>\n",
       "    <tr style=\"text-align: right;\">\n",
       "      <th></th>\n",
       "      <th>Word</th>\n",
       "      <th>FREQcount</th>\n",
       "      <th>CDcount</th>\n",
       "      <th>FREQlow</th>\n",
       "      <th>Cdlow</th>\n",
       "      <th>SUBTLWF</th>\n",
       "      <th>Lg10WF</th>\n",
       "      <th>SUBTLCD</th>\n",
       "      <th>Lg10CD</th>\n",
       "      <th>rank_frequency</th>\n",
       "    </tr>\n",
       "  </thead>\n",
       "  <tbody>\n",
       "    <tr>\n",
       "      <th>2024</th>\n",
       "      <td>rude</td>\n",
       "      <td>1125</td>\n",
       "      <td>885</td>\n",
       "      <td>1094</td>\n",
       "      <td>871</td>\n",
       "      <td>22.06</td>\n",
       "      <td>3.0515</td>\n",
       "      <td>10.55</td>\n",
       "      <td>2.9474</td>\n",
       "      <td>2458.0</td>\n",
       "    </tr>\n",
       "    <tr>\n",
       "      <th>31072</th>\n",
       "      <td>resonates</td>\n",
       "      <td>11</td>\n",
       "      <td>11</td>\n",
       "      <td>11</td>\n",
       "      <td>11</td>\n",
       "      <td>0.22</td>\n",
       "      <td>1.0792</td>\n",
       "      <td>0.13</td>\n",
       "      <td>1.0792</td>\n",
       "      <td>34444.5</td>\n",
       "    </tr>\n",
       "    <tr>\n",
       "      <th>24595</th>\n",
       "      <td>sorriest</td>\n",
       "      <td>19</td>\n",
       "      <td>19</td>\n",
       "      <td>19</td>\n",
       "      <td>19</td>\n",
       "      <td>0.37</td>\n",
       "      <td>1.3010</td>\n",
       "      <td>0.23</td>\n",
       "      <td>1.3010</td>\n",
       "      <td>27903.0</td>\n",
       "    </tr>\n",
       "    <tr>\n",
       "      <th>7335</th>\n",
       "      <td>suspension</td>\n",
       "      <td>222</td>\n",
       "      <td>152</td>\n",
       "      <td>212</td>\n",
       "      <td>148</td>\n",
       "      <td>4.35</td>\n",
       "      <td>2.3483</td>\n",
       "      <td>1.81</td>\n",
       "      <td>2.1847</td>\n",
       "      <td>7494.0</td>\n",
       "    </tr>\n",
       "    <tr>\n",
       "      <th>6064</th>\n",
       "      <td>feathers</td>\n",
       "      <td>291</td>\n",
       "      <td>204</td>\n",
       "      <td>264</td>\n",
       "      <td>194</td>\n",
       "      <td>5.71</td>\n",
       "      <td>2.4654</td>\n",
       "      <td>2.43</td>\n",
       "      <td>2.3118</td>\n",
       "      <td>6312.5</td>\n",
       "    </tr>\n",
       "  </tbody>\n",
       "</table>\n",
       "</div>"
      ],
      "text/plain": [
       "             Word  FREQcount  CDcount  FREQlow  Cdlow  SUBTLWF  Lg10WF  \\\n",
       "2024         rude       1125      885     1094    871    22.06  3.0515   \n",
       "31072   resonates         11       11       11     11     0.22  1.0792   \n",
       "24595    sorriest         19       19       19     19     0.37  1.3010   \n",
       "7335   suspension        222      152      212    148     4.35  2.3483   \n",
       "6064     feathers        291      204      264    194     5.71  2.4654   \n",
       "\n",
       "       SUBTLCD  Lg10CD  rank_frequency  \n",
       "2024     10.55  2.9474          2458.0  \n",
       "31072     0.13  1.0792         34444.5  \n",
       "24595     0.23  1.3010         27903.0  \n",
       "7335      1.81  2.1847          7494.0  \n",
       "6064      2.43  2.3118          6312.5  "
      ]
     },
     "execution_count": 20,
     "metadata": {},
     "output_type": "execute_result"
    }
   ],
   "source": [
    "df_fillers = pd.concat(fillers)\n",
    "df_fillers.head(5)"
   ]
  },
  {
   "cell_type": "markdown",
   "metadata": {
    "slideshow": {
     "slide_type": "subslide"
    }
   },
   "source": [
    "### Compare our distributions\n",
    "\n",
    "They look very similar. That's good! That means we've done a good job matching.\n",
    "\n",
    "As noted above, feel free to play around with `FREQ_THRESHOLD` variable--the larger you make the threshold (i.e., the more \"relaxed\"/less stringent it is), the less tightly our distributions will be matched."
   ]
  },
  {
   "cell_type": "code",
   "execution_count": 21,
   "metadata": {},
   "outputs": [
    {
     "data": {
      "text/plain": [
       "(array([28., 23., 18., 14.,  7.,  5.,  2.,  1.,  0.,  2.]),\n",
       " array([0.4771 , 0.80801, 1.13892, 1.46983, 1.80074, 2.13165, 2.46256,\n",
       "        2.79347, 3.12438, 3.45529, 3.7862 ]),\n",
       " <a list of 10 Patch objects>)"
      ]
     },
     "execution_count": 21,
     "metadata": {},
     "output_type": "execute_result"
    },
    {
     "data": {
      "image/png": "[encoded data removed]",
      "text/plain": [
       "<Figure size 432x288 with 1 Axes>"
      ]
     },
     "metadata": {
      "image/png": {
       "height": 250,
       "width": 370
      },
      "needs_background": "light"
     },
     "output_type": "display_data"
    }
   ],
   "source": [
    "plt.hist(df_merged['Lg10WF'], label = \"critical\", alpha = .6, color = \"gray\")\n",
    "plt.hist(df_fillers['Lg10WF'], label = \"fillers\", alpha = .3, color = \"green\")"
   ]
  },
  {
   "cell_type": "markdown",
   "metadata": {
    "slideshow": {
     "slide_type": "slide"
    }
   },
   "source": [
    "# Example 2: Merging multiple lexical resources\n",
    "\n",
    "What if you want to look at how `Frequency` relates to other variables, like `Age of Acquisition` or `Concreteness`?\n",
    "\n",
    "This is a common **data science** problem. We have multiple datasets, and we want to **join** (i.e., **merge**) them in some way.\n",
    "\n",
    "Let's walk through how that'd work below."
   ]
  },
  {
   "cell_type": "code",
   "execution_count": 22,
   "metadata": {
    "slideshow": {
     "slide_type": "subslide"
    }
   },
   "outputs": [
    {
     "data": {
      "text/plain": [
       "31318"
      ]
     },
     "execution_count": 22,
     "metadata": {},
     "output_type": "execute_result"
    }
   ],
   "source": [
    "# First, let's read in an AoA dataset\n",
    "df_aoa = pd.read_csv(\"data/english_aoa_norms.csv\")\n",
    "len(df_aoa)"
   ]
  },
  {
   "cell_type": "code",
   "execution_count": 23,
   "metadata": {
    "slideshow": {
     "slide_type": "subslide"
    }
   },
   "outputs": [
    {
     "data": {
      "text/html": [
       "<div>\n",
       "<style scoped>\n",
       "    .dataframe tbody tr th:only-of-type {\n",
       "        vertical-align: middle;\n",
       "    }\n",
       "\n",
       "    .dataframe tbody tr th {\n",
       "        vertical-align: top;\n",
       "    }\n",
       "\n",
       "    .dataframe thead th {\n",
       "        text-align: right;\n",
       "    }\n",
       "</style>\n",
       "<table border=\"1\" class=\"dataframe\">\n",
       "  <thead>\n",
       "    <tr style=\"text-align: right;\">\n",
       "      <th></th>\n",
       "      <th>Word</th>\n",
       "      <th>OccurTotal</th>\n",
       "      <th>OccurNum</th>\n",
       "      <th>Freq_pm</th>\n",
       "      <th>Rating.Mean</th>\n",
       "      <th>Rating.SD</th>\n",
       "      <th>Dunno</th>\n",
       "    </tr>\n",
       "  </thead>\n",
       "  <tbody>\n",
       "    <tr>\n",
       "      <th>0</th>\n",
       "      <td>a</td>\n",
       "      <td>22.0</td>\n",
       "      <td>22.0</td>\n",
       "      <td>20415.27</td>\n",
       "      <td>2.89</td>\n",
       "      <td>1.21</td>\n",
       "      <td>1.00</td>\n",
       "    </tr>\n",
       "    <tr>\n",
       "      <th>1</th>\n",
       "      <td>aardvark</td>\n",
       "      <td>18.0</td>\n",
       "      <td>18.0</td>\n",
       "      <td>0.41</td>\n",
       "      <td>9.89</td>\n",
       "      <td>3.66</td>\n",
       "      <td>1.00</td>\n",
       "    </tr>\n",
       "    <tr>\n",
       "      <th>2</th>\n",
       "      <td>abacus</td>\n",
       "      <td>20.0</td>\n",
       "      <td>13.0</td>\n",
       "      <td>0.24</td>\n",
       "      <td>8.69</td>\n",
       "      <td>3.77</td>\n",
       "      <td>0.65</td>\n",
       "    </tr>\n",
       "    <tr>\n",
       "      <th>3</th>\n",
       "      <td>abalone</td>\n",
       "      <td>18.0</td>\n",
       "      <td>13.0</td>\n",
       "      <td>0.51</td>\n",
       "      <td>12.23</td>\n",
       "      <td>3.54</td>\n",
       "      <td>0.72</td>\n",
       "    </tr>\n",
       "    <tr>\n",
       "      <th>4</th>\n",
       "      <td>abandon</td>\n",
       "      <td>19.0</td>\n",
       "      <td>19.0</td>\n",
       "      <td>8.10</td>\n",
       "      <td>8.32</td>\n",
       "      <td>2.75</td>\n",
       "      <td>1.00</td>\n",
       "    </tr>\n",
       "  </tbody>\n",
       "</table>\n",
       "</div>"
      ],
      "text/plain": [
       "       Word  OccurTotal  OccurNum   Freq_pm  Rating.Mean  Rating.SD  Dunno\n",
       "0         a        22.0      22.0  20415.27         2.89       1.21   1.00\n",
       "1  aardvark        18.0      18.0      0.41         9.89       3.66   1.00\n",
       "2    abacus        20.0      13.0      0.24         8.69       3.77   0.65\n",
       "3   abalone        18.0      13.0      0.51        12.23       3.54   0.72\n",
       "4   abandon        19.0      19.0      8.10         8.32       2.75   1.00"
      ]
     },
     "execution_count": 23,
     "metadata": {},
     "output_type": "execute_result"
    }
   ],
   "source": [
    "df_aoa.head(5)"
   ]
  },
  {
   "cell_type": "code",
   "execution_count": 24,
   "metadata": {
    "slideshow": {
     "slide_type": "subslide"
    }
   },
   "outputs": [
    {
     "data": {
      "text/html": [
       "<div>\n",
       "<style scoped>\n",
       "    .dataframe tbody tr th:only-of-type {\n",
       "        vertical-align: middle;\n",
       "    }\n",
       "\n",
       "    .dataframe tbody tr th {\n",
       "        vertical-align: top;\n",
       "    }\n",
       "\n",
       "    .dataframe thead th {\n",
       "        text-align: right;\n",
       "    }\n",
       "</style>\n",
       "<table border=\"1\" class=\"dataframe\">\n",
       "  <thead>\n",
       "    <tr style=\"text-align: right;\">\n",
       "      <th></th>\n",
       "      <th>Word</th>\n",
       "      <th>OccurTotal</th>\n",
       "      <th>OccurNum</th>\n",
       "      <th>Freq_pm</th>\n",
       "      <th>Rating.Mean</th>\n",
       "      <th>Rating.SD</th>\n",
       "      <th>Dunno</th>\n",
       "    </tr>\n",
       "  </thead>\n",
       "  <tbody>\n",
       "    <tr>\n",
       "      <th>0</th>\n",
       "      <td>a</td>\n",
       "      <td>22.0</td>\n",
       "      <td>22.0</td>\n",
       "      <td>20415.27</td>\n",
       "      <td>2.89</td>\n",
       "      <td>1.21</td>\n",
       "      <td>1.00</td>\n",
       "    </tr>\n",
       "    <tr>\n",
       "      <th>1</th>\n",
       "      <td>aardvark</td>\n",
       "      <td>18.0</td>\n",
       "      <td>18.0</td>\n",
       "      <td>0.41</td>\n",
       "      <td>9.89</td>\n",
       "      <td>3.66</td>\n",
       "      <td>1.00</td>\n",
       "    </tr>\n",
       "    <tr>\n",
       "      <th>2</th>\n",
       "      <td>abacus</td>\n",
       "      <td>20.0</td>\n",
       "      <td>13.0</td>\n",
       "      <td>0.24</td>\n",
       "      <td>8.69</td>\n",
       "      <td>3.77</td>\n",
       "      <td>0.65</td>\n",
       "    </tr>\n",
       "    <tr>\n",
       "      <th>3</th>\n",
       "      <td>abalone</td>\n",
       "      <td>18.0</td>\n",
       "      <td>13.0</td>\n",
       "      <td>0.51</td>\n",
       "      <td>12.23</td>\n",
       "      <td>3.54</td>\n",
       "      <td>0.72</td>\n",
       "    </tr>\n",
       "    <tr>\n",
       "      <th>4</th>\n",
       "      <td>abandon</td>\n",
       "      <td>19.0</td>\n",
       "      <td>19.0</td>\n",
       "      <td>8.10</td>\n",
       "      <td>8.32</td>\n",
       "      <td>2.75</td>\n",
       "      <td>1.00</td>\n",
       "    </tr>\n",
       "  </tbody>\n",
       "</table>\n",
       "</div>"
      ],
      "text/plain": [
       "       Word  OccurTotal  OccurNum   Freq_pm  Rating.Mean  Rating.SD  Dunno\n",
       "0         a        22.0      22.0  20415.27         2.89       1.21   1.00\n",
       "1  aardvark        18.0      18.0      0.41         9.89       3.66   1.00\n",
       "2    abacus        20.0      13.0      0.24         8.69       3.77   0.65\n",
       "3   abalone        18.0      13.0      0.51        12.23       3.54   0.72\n",
       "4   abandon        19.0      19.0      8.10         8.32       2.75   1.00"
      ]
     },
     "execution_count": 24,
     "metadata": {},
     "output_type": "execute_result"
    }
   ],
   "source": [
    "# How can we merge this with our frequency dataset?\n",
    "df_aoa.head(5)"
   ]
  },
  {
   "cell_type": "code",
   "execution_count": 25,
   "metadata": {
    "slideshow": {
     "slide_type": "subslide"
    }
   },
   "outputs": [
    {
     "data": {
      "text/plain": [
       "25191"
      ]
     },
     "execution_count": 25,
     "metadata": {},
     "output_type": "execute_result"
    }
   ],
   "source": [
    "## now we should merge these datasets. \n",
    "## We'll lose some rows b/c not all the same words are in both.\n",
    "df_merged = pd.merge(df_aoa, df_subtlex, on = \"Word\")\n",
    "len(df_merged)"
   ]
  },
  {
   "cell_type": "code",
   "execution_count": 26,
   "metadata": {
    "slideshow": {
     "slide_type": "subslide"
    }
   },
   "outputs": [
    {
     "data": {
      "text/html": [
       "<div>\n",
       "<style scoped>\n",
       "    .dataframe tbody tr th:only-of-type {\n",
       "        vertical-align: middle;\n",
       "    }\n",
       "\n",
       "    .dataframe tbody tr th {\n",
       "        vertical-align: top;\n",
       "    }\n",
       "\n",
       "    .dataframe thead th {\n",
       "        text-align: right;\n",
       "    }\n",
       "</style>\n",
       "<table border=\"1\" class=\"dataframe\">\n",
       "  <thead>\n",
       "    <tr style=\"text-align: right;\">\n",
       "      <th></th>\n",
       "      <th>Word</th>\n",
       "      <th>OccurTotal</th>\n",
       "      <th>OccurNum</th>\n",
       "      <th>Freq_pm</th>\n",
       "      <th>Rating.Mean</th>\n",
       "      <th>Rating.SD</th>\n",
       "      <th>Dunno</th>\n",
       "      <th>FREQcount</th>\n",
       "      <th>CDcount</th>\n",
       "      <th>FREQlow</th>\n",
       "      <th>Cdlow</th>\n",
       "      <th>SUBTLWF</th>\n",
       "      <th>Lg10WF</th>\n",
       "      <th>SUBTLCD</th>\n",
       "      <th>Lg10CD</th>\n",
       "      <th>rank_frequency</th>\n",
       "    </tr>\n",
       "  </thead>\n",
       "  <tbody>\n",
       "    <tr>\n",
       "      <th>0</th>\n",
       "      <td>a</td>\n",
       "      <td>22.0</td>\n",
       "      <td>22.0</td>\n",
       "      <td>20415.27</td>\n",
       "      <td>2.89</td>\n",
       "      <td>1.21</td>\n",
       "      <td>1.00</td>\n",
       "      <td>1041179</td>\n",
       "      <td>8382</td>\n",
       "      <td>976941</td>\n",
       "      <td>8380</td>\n",
       "      <td>20415.27</td>\n",
       "      <td>6.0175</td>\n",
       "      <td>99.93</td>\n",
       "      <td>3.9234</td>\n",
       "      <td>6.0</td>\n",
       "    </tr>\n",
       "    <tr>\n",
       "      <th>1</th>\n",
       "      <td>aardvark</td>\n",
       "      <td>18.0</td>\n",
       "      <td>18.0</td>\n",
       "      <td>0.41</td>\n",
       "      <td>9.89</td>\n",
       "      <td>3.66</td>\n",
       "      <td>1.00</td>\n",
       "      <td>21</td>\n",
       "      <td>12</td>\n",
       "      <td>14</td>\n",
       "      <td>8</td>\n",
       "      <td>0.41</td>\n",
       "      <td>1.3424</td>\n",
       "      <td>0.14</td>\n",
       "      <td>1.1139</td>\n",
       "      <td>26732.0</td>\n",
       "    </tr>\n",
       "    <tr>\n",
       "      <th>2</th>\n",
       "      <td>abacus</td>\n",
       "      <td>20.0</td>\n",
       "      <td>13.0</td>\n",
       "      <td>0.24</td>\n",
       "      <td>8.69</td>\n",
       "      <td>3.77</td>\n",
       "      <td>0.65</td>\n",
       "      <td>12</td>\n",
       "      <td>10</td>\n",
       "      <td>10</td>\n",
       "      <td>9</td>\n",
       "      <td>0.24</td>\n",
       "      <td>1.1139</td>\n",
       "      <td>0.12</td>\n",
       "      <td>1.0414</td>\n",
       "      <td>33312.5</td>\n",
       "    </tr>\n",
       "    <tr>\n",
       "      <th>3</th>\n",
       "      <td>abalone</td>\n",
       "      <td>18.0</td>\n",
       "      <td>13.0</td>\n",
       "      <td>0.51</td>\n",
       "      <td>12.23</td>\n",
       "      <td>3.54</td>\n",
       "      <td>0.72</td>\n",
       "      <td>26</td>\n",
       "      <td>11</td>\n",
       "      <td>14</td>\n",
       "      <td>9</td>\n",
       "      <td>0.51</td>\n",
       "      <td>1.4314</td>\n",
       "      <td>0.13</td>\n",
       "      <td>1.0792</td>\n",
       "      <td>24320.0</td>\n",
       "    </tr>\n",
       "    <tr>\n",
       "      <th>4</th>\n",
       "      <td>abandon</td>\n",
       "      <td>19.0</td>\n",
       "      <td>19.0</td>\n",
       "      <td>8.10</td>\n",
       "      <td>8.32</td>\n",
       "      <td>2.75</td>\n",
       "      <td>1.00</td>\n",
       "      <td>413</td>\n",
       "      <td>312</td>\n",
       "      <td>345</td>\n",
       "      <td>281</td>\n",
       "      <td>8.10</td>\n",
       "      <td>2.6170</td>\n",
       "      <td>3.72</td>\n",
       "      <td>2.4955</td>\n",
       "      <td>5024.0</td>\n",
       "    </tr>\n",
       "  </tbody>\n",
       "</table>\n",
       "</div>"
      ],
      "text/plain": [
       "       Word  OccurTotal  OccurNum   Freq_pm  Rating.Mean  Rating.SD  Dunno  \\\n",
       "0         a        22.0      22.0  20415.27         2.89       1.21   1.00   \n",
       "1  aardvark        18.0      18.0      0.41         9.89       3.66   1.00   \n",
       "2    abacus        20.0      13.0      0.24         8.69       3.77   0.65   \n",
       "3   abalone        18.0      13.0      0.51        12.23       3.54   0.72   \n",
       "4   abandon        19.0      19.0      8.10         8.32       2.75   1.00   \n",
       "\n",
       "   FREQcount  CDcount  FREQlow  Cdlow   SUBTLWF  Lg10WF  SUBTLCD  Lg10CD  \\\n",
       "0    1041179     8382   976941   8380  20415.27  6.0175    99.93  3.9234   \n",
       "1         21       12       14      8      0.41  1.3424     0.14  1.1139   \n",
       "2         12       10       10      9      0.24  1.1139     0.12  1.0414   \n",
       "3         26       11       14      9      0.51  1.4314     0.13  1.0792   \n",
       "4        413      312      345    281      8.10  2.6170     3.72  2.4955   \n",
       "\n",
       "   rank_frequency  \n",
       "0             6.0  \n",
       "1         26732.0  \n",
       "2         33312.5  \n",
       "3         24320.0  \n",
       "4          5024.0  "
      ]
     },
     "execution_count": 26,
     "metadata": {},
     "output_type": "execute_result"
    }
   ],
   "source": [
    "df_merged.head(5)"
   ]
  },
  {
   "cell_type": "code",
   "execution_count": 27,
   "metadata": {
    "slideshow": {
     "slide_type": "subslide"
    }
   },
   "outputs": [
    {
     "data": {
      "text/plain": [
       "Text(0.5, 1.0, 'Aoa ~ Frequency')"
      ]
     },
     "execution_count": 27,
     "metadata": {},
     "output_type": "execute_result"
    },
    {
     "data": {
      "image/png": "[encoded data removed]",
      "text/plain": [
       "<Figure size 432x288 with 1 Axes>"
      ]
     },
     "metadata": {
      "image/png": {
       "height": 277,
       "width": 393
      },
      "needs_background": "light"
     },
     "output_type": "display_data"
    }
   ],
   "source": [
    "## Now we can visualize this relationship\n",
    "\n",
    "sns.scatterplot(data = df_merged,\n",
    "               x = \"Lg10WF\",\n",
    "               y = \"Rating.Mean\",\n",
    "               alpha = .1)\n",
    "\n",
    "plt.ylabel(\"Age of Acquisition\")\n",
    "plt.xlabel(\"Log(Frequency)\")\n",
    "plt.title(\"Aoa ~ Frequency\")"
   ]
  },
  {
   "cell_type": "markdown",
   "metadata": {
    "slideshow": {
     "slide_type": "slide"
    }
   },
   "source": [
    "## Conclusion of Part 1\n",
    "\n",
    "Hopefully, **Part 1** has been a helpful introduction to:\n",
    "\n",
    "- The wide variety of lexical resources that exist  \n",
    "- How to read those datasets into Python using `pandas`  \n",
    "- How to merge, visualize, and analyze those datasets  "
   ]
  },
  {
   "cell_type": "markdown",
   "metadata": {
    "slideshow": {
     "slide_type": "slide"
    }
   },
   "source": [
    "# Part 2: Basic text processing\n",
    "\n",
    "In **Part 2**, I'll talk briefly about manipulating *strings* in Python––using built-in methods that don't require installing other packages.\n",
    "\n",
    "I'll just focus on a simple example to start: counting the number of times that a word occurs in a passage, using built-in Python methods."
   ]
  },
  {
   "cell_type": "markdown",
   "metadata": {
    "slideshow": {
     "slide_type": "subslide"
    }
   },
   "source": [
    "## Counting occurrences\n",
    "\n",
    "A common task is counting how many times some word occurs in a passage, or across some set of passages. \n",
    "\n",
    "For example, maybe you think that a passage contains a **metaphor**, and so you want to know whether there are any words associated with that metaphor."
   ]
  },
  {
   "cell_type": "code",
   "execution_count": 155,
   "metadata": {
    "slideshow": {
     "slide_type": "subslide"
    }
   },
   "outputs": [],
   "source": [
    "## target words to search for\n",
    "battle_words = ['fight', 'win', 'war', 'battle']"
   ]
  },
  {
   "cell_type": "code",
   "execution_count": 156,
   "metadata": {
    "slideshow": {
     "slide_type": "subslide"
    }
   },
   "outputs": [],
   "source": [
    "## Now let's consider a few example sentences\n",
    "example_passages = [\n",
    "    'The war on climate change is just beginning!',\n",
    "    'We have been battling climate change for years',\n",
    "    'Win the war on global warming!'\n",
    "]"
   ]
  },
  {
   "cell_type": "markdown",
   "metadata": {
    "slideshow": {
     "slide_type": "subslide"
    }
   },
   "source": [
    "### Methods for counting words \n",
    "\n",
    "How could we count the number of times each `battle_word` occurs in each sentence?\n",
    "\n",
    "There are a couple different approaches to this. The first couple I'll describe use variants of **string matching**: i.e., they check whether a substring in a sentence perfectly matches one of our target words.\n",
    "\n",
    "What are some possibe limitations to exact string matching for counting words?"
   ]
  },
  {
   "cell_type": "code",
   "execution_count": 157,
   "metadata": {
    "slideshow": {
     "slide_type": "subslide"
    }
   },
   "outputs": [],
   "source": [
    "## Method 1: split each sentence into words, and count number of battle words\n",
    "from collections import Counter\n",
    "\n",
    "all_counts = []\n",
    "for p in example_passages:\n",
    "    p = p.lower() # Make lowercase!\n",
    "    words = p.split(\" \") # Split based on spaces (not always appropriate!)\n",
    "    \n",
    "    # Count #occurrences of each word in sentence\n",
    "    counts = Counter(words)\n",
    "    \n",
    "    # Get counts for each battle word\n",
    "    battle_counts = [(i, counts[i]) for i in battle_words]\n",
    "    all_counts.append((p, battle_counts))"
   ]
  },
  {
   "cell_type": "code",
   "execution_count": 158,
   "metadata": {
    "slideshow": {
     "slide_type": "subslide"
    }
   },
   "outputs": [
    {
     "data": {
      "text/plain": [
       "[('the war on climate change is just beginning!',\n",
       "  [('fight', 0), ('win', 0), ('war', 1), ('battle', 0)]),\n",
       " ('we have been battling climate change for years',\n",
       "  [('fight', 0), ('win', 0), ('war', 0), ('battle', 0)]),\n",
       " ('win the war on global warming!',\n",
       "  [('fight', 0), ('win', 1), ('war', 1), ('battle', 0)])]"
      ]
     },
     "execution_count": 158,
     "metadata": {},
     "output_type": "execute_result"
    }
   ],
   "source": [
    "## This is what we get. How did we do?\n",
    "all_counts"
   ]
  },
  {
   "cell_type": "markdown",
   "metadata": {
    "slideshow": {
     "slide_type": "subslide"
    }
   },
   "source": [
    "### The need to lemmatize\n",
    "\n",
    "We missed \"battling\" because we only included the string **battle**.\n",
    "\n",
    "There are at least two solutions here:\n",
    "\n",
    "- Include `battling` as well!\n",
    "- Lemmatize our words\n",
    "\n",
    "I'll skip these solutions for now, but note that `nltk` (reviewed later) has methods to **lemmatize** each word in a string. This would change `battling` to `battle`, so we could match it in the counting process."
   ]
  },
  {
   "cell_type": "code",
   "execution_count": 159,
   "metadata": {
    "slideshow": {
     "slide_type": "subslide"
    }
   },
   "outputs": [],
   "source": [
    "## Method 2: Regex\n",
    "import re\n",
    "r = re.compile(r'\\bbattle\\b|\\bfight\\b|\\win\\b|\\war\\b')"
   ]
  },
  {
   "cell_type": "code",
   "execution_count": 160,
   "metadata": {
    "slideshow": {
     "slide_type": "subslide"
    }
   },
   "outputs": [],
   "source": [
    "all_counts = []\n",
    "for p in example_passages:\n",
    "    p = p.lower() # Make lowercase!\n",
    "    words = p.split(\" \") # Split based on spaces (not always appropriate!)\n",
    "    \n",
    "    # Use regex to find matches of each string\n",
    "    groups = r.findall(p)\n",
    "    battle_counts = Counter(groups)\n",
    "    all_counts.append((p, battle_counts))"
   ]
  },
  {
   "cell_type": "code",
   "execution_count": 161,
   "metadata": {
    "slideshow": {
     "slide_type": "subslide"
    }
   },
   "outputs": [
    {
     "data": {
      "text/plain": [
       "[('the war on climate change is just beginning!', Counter({'war': 1})),\n",
       " ('we have been battling climate change for years', Counter()),\n",
       " ('win the war on global warming!', Counter({'win': 1, 'war': 1}))]"
      ]
     },
     "execution_count": 161,
     "metadata": {},
     "output_type": "execute_result"
    }
   ],
   "source": [
    "## How did we do?\n",
    "all_counts"
   ]
  },
  {
   "cell_type": "markdown",
   "metadata": {
    "slideshow": {
     "slide_type": "slide"
    }
   },
   "source": [
    "# Part 2: Using `nltk` and `spaCy`\n",
    "\n",
    "Many Python packages are free to install and use. \n",
    "\n",
    "Here, I'll focus on two widely used libraries: \n",
    "\n",
    "- `nltk` (the Natural Language Toolkit for Python)\n",
    "- `spaCy`\n",
    "\n",
    "both come with their own detailed set of documentation, so the goal here is really just to introduce you to some of their basic affordances."
   ]
  },
  {
   "cell_type": "markdown",
   "metadata": {
    "slideshow": {
     "slide_type": "subslide"
    }
   },
   "source": [
    "## Using `nltk`\n",
    "\n",
    "The `nltk` library comes with its own free [book](https://www.nltk.org/book/), which is really fantastic. Each chapter deals with a different issue, from [accessing text corpora](https://www.nltk.org/book/ch02.html) to using [classifiers](https://www.nltk.org/book/ch06.html). \n",
    "\n",
    "I'm going to discuss two resources/tools that I use frequently from `nltk`: sentiment analysis and WordNet. "
   ]
  },
  {
   "cell_type": "markdown",
   "metadata": {
    "slideshow": {
     "slide_type": "subslide"
    }
   },
   "source": [
    "### Sentiment analysis\n",
    "\n",
    "The basic goal of sentiment analysis is to label/predict the \"sentiment\" of a piece of text. A simple version of this is labeling text as **positive** or **negative**. \n",
    "\n",
    "`nltk` has its own page on [sentiment analysis](https://www.nltk.org/howto/sentiment.html), so I'm going to focus here on a particular tool *within* `nltk` that's pretty plug-and-play. "
   ]
  },
  {
   "cell_type": "markdown",
   "metadata": {
    "slideshow": {
     "slide_type": "subslide"
    }
   },
   "source": [
    "#### Sentiment analysis: logic\n",
    "\n",
    "The simplest possible approach to sentiment analysis might be something like:\n",
    "\n",
    "1. Compile a dictionary of words.  \n",
    "2. For each word, label whether it's positive or negative.  \n",
    "3. For a given sentence, add up all the positive and negative words in that sentence and return the sum (or average). \n",
    "\n",
    "This \"bag of words\" approach sounds simplistic (and it is), but it can also be surprisingly effective! It's the basis behind lots of NLP tools like [LIWC](https://liwc.wpengine.com/), which of course has more dimensions than simply **valence**.\n",
    "\n",
    "The downside to a purely bag of words approach is, of course, that words have different meanings in different contexts! \n",
    "\n",
    "*Example*: the word \"good\" might be positive in \"the food was good\", but the use of negation (\"the food was *not* good\") flips the valence."
   ]
  },
  {
   "cell_type": "markdown",
   "metadata": {
    "slideshow": {
     "slide_type": "subslide"
    }
   },
   "source": [
    "#### Sentiment analysis: VADER\n",
    "\n",
    "On the spectrum of simple to complex, [VADER](https://ojs.aaai.org/index.php/ICWSM/article/view/14550) is probably closer to \"simple\", but there are some clever design features that make it better than the simplest approach.\n",
    "\n",
    "To give a very simple example: \n",
    "\n",
    "VADER builds upon this simple principle and adds five simple rules or heuristics. Here's a summary, pretty much copied/pasted from their paper:  \n",
    "\n",
    "1. Punctuation (like \"!\") increases magnitude/intensity of sentiment without affecting semantic orientation.  \n",
    "2. Capitalization increases the magnitude/intensity of sentiment without affecting semantic orientation.\n",
    "3. Degree modifiers (like \"marginally\" or \"extremely\") increase or decrease magnitude/intensity of sentiment without affecting semantic orientation.  \n",
    "4. The contrastive conjunction \"but\" signals a shift in polarity, meaning that VADER should focus on the text immediately following \"but\". \n",
    "5. By looking at the tri-gram preceding a very \"sentimental\" word, VADER can catch cases where negation flips the semantic orientation/valence.  "
   ]
  },
  {
   "cell_type": "code",
   "execution_count": 28,
   "metadata": {
    "slideshow": {
     "slide_type": "subslide"
    }
   },
   "outputs": [
    {
     "name": "stderr",
     "output_type": "stream",
     "text": [
      "[nltk_data] Downloading package vader_lexicon to\n",
      "[nltk_data]     /Users/seantrott/nltk_data...\n",
      "[nltk_data]   Package vader_lexicon is already up-to-date!\n"
     ]
    },
    {
     "data": {
      "text/plain": [
       "True"
      ]
     },
     "execution_count": 28,
     "metadata": {},
     "output_type": "execute_result"
    }
   ],
   "source": [
    "## First, we need to make sure we have downloaded the \"Vader Sentiment lexicon\"\n",
    "import nltk\n",
    "nltk.download('vader_lexicon')"
   ]
  },
  {
   "cell_type": "code",
   "execution_count": 29,
   "metadata": {
    "slideshow": {
     "slide_type": "subslide"
    }
   },
   "outputs": [],
   "source": [
    "## Now we import and create the VADER object\n",
    "from nltk.sentiment.vader import SentimentIntensityAnalyzer\n",
    "sid = SentimentIntensityAnalyzer()"
   ]
  },
  {
   "cell_type": "code",
   "execution_count": 30,
   "metadata": {
    "slideshow": {
     "slide_type": "subslide"
    }
   },
   "outputs": [
    {
     "data": {
      "text/plain": [
       "{'neg': 0.0, 'neu': 0.448, 'pos': 0.552, 'compound': 0.5719}"
      ]
     },
     "execution_count": 30,
     "metadata": {},
     "output_type": "execute_result"
    }
   ],
   "source": [
    "## Let's try VADER out on a simple sentence\n",
    "ss = sid.polarity_scores(\"The food was delicious\")\n",
    "ss"
   ]
  },
  {
   "cell_type": "markdown",
   "metadata": {
    "slideshow": {
     "slide_type": "subslide"
    }
   },
   "source": [
    "### Unpacking this information\n",
    "\n",
    "VADER gives us a `dictionary`, which breaks down the model's confidence that the statement was:\n",
    "\n",
    "- negative  \n",
    "- neutral\n",
    "- positive\n",
    "\n",
    "It also contains a `compound` score, which averages the valence scores across the words."
   ]
  },
  {
   "cell_type": "code",
   "execution_count": 31,
   "metadata": {
    "slideshow": {
     "slide_type": "subslide"
    }
   },
   "outputs": [
    {
     "data": {
      "text/plain": [
       "0.6467"
      ]
     },
     "execution_count": 31,
     "metadata": {},
     "output_type": "execute_result"
    }
   ],
   "source": [
    "## Now let's add puncutation: we see that it increases the overall sentiment!\n",
    "ss = sid.polarity_scores(\"The food was delicious!!\")\n",
    "ss['compound']"
   ]
  },
  {
   "cell_type": "code",
   "execution_count": 32,
   "metadata": {
    "slideshow": {
     "slide_type": "subslide"
    }
   },
   "outputs": [
    {
     "data": {
      "text/plain": [
       "-0.5547"
      ]
     },
     "execution_count": 32,
     "metadata": {},
     "output_type": "execute_result"
    }
   ],
   "source": [
    "## Now let's try this on a trickier sentence, involving negation. We see that \"not\" flips the orientation!\n",
    "ss = sid.polarity_scores(\"The food was not delicious!!\")\n",
    "ss['compound']"
   ]
  },
  {
   "cell_type": "markdown",
   "metadata": {
    "slideshow": {
     "slide_type": "subslide"
    }
   },
   "source": [
    "### Limitations to sentiment analysis\n",
    "\n",
    "Of course, VADER isn't perfect. \n",
    "\n",
    "- Many aspects of sentiment are context-dependent  \n",
    "- Other aspects might be in the \"eye of the beholder\"\n",
    "\n",
    "But VADER is a nice, plug-and-play model to get an estimate of text valence."
   ]
  },
  {
   "cell_type": "code",
   "execution_count": 34,
   "metadata": {
    "slideshow": {
     "slide_type": "subslide"
    }
   },
   "outputs": [
    {
     "data": {
      "text/plain": [
       "-0.34"
      ]
     },
     "execution_count": 34,
     "metadata": {},
     "output_type": "execute_result"
    }
   ],
   "source": [
    "## Example: \n",
    "## VADER thinks this sentence is negative, \n",
    "## possibly just because of the word \"gun\".\n",
    "## But different people might think it's positive or negative...\n",
    "ss = sid.polarity_scores(\"Congress passes gun control legislation.\")\n",
    "ss['compound']"
   ]
  },
  {
   "cell_type": "markdown",
   "metadata": {
    "slideshow": {
     "slide_type": "subslide"
    }
   },
   "source": [
    "#### Applications\n",
    "\n",
    "But sentiment analysis is still a useful tool for our NLP toolbox. It allows you to run analyses like [this one](https://epjdatascience.springeropen.com/articles/10.1140/epjds/s13688-016-0093-1) (Reagan et al, 2016), in which the authors argue that most well-read novels have one of six possible \"narrative arcs\". "
   ]
  },
  {
   "cell_type": "markdown",
   "metadata": {
    "slideshow": {
     "slide_type": "slide"
    }
   },
   "source": [
    "### WordNet\n",
    "\n",
    "`nltk` also comes with a number of corpora, including WordNet. Again, `nltk` has a [great tutorial](https://www.nltk.org/howto/wordnet.html) on working with WordNet, so here I'll just limit this to a brief demonstration. "
   ]
  },
  {
   "cell_type": "code",
   "execution_count": 35,
   "metadata": {
    "slideshow": {
     "slide_type": "subslide"
    }
   },
   "outputs": [],
   "source": [
    "## Import wordnet corpus\n",
    "from nltk.corpus import wordnet as wn"
   ]
  },
  {
   "cell_type": "markdown",
   "metadata": {
    "slideshow": {
     "slide_type": "subslide"
    }
   },
   "source": [
    "#### Synsets"
   ]
  },
  {
   "cell_type": "code",
   "execution_count": 37,
   "metadata": {
    "slideshow": {
     "slide_type": "subslide"
    }
   },
   "outputs": [],
   "source": [
    "## WordNet maps words onto \"synsets\"; each synset is a set of synonyms with a common meaning\n",
    "bank_synsets = wn.synsets('bank')"
   ]
  },
  {
   "cell_type": "code",
   "execution_count": 39,
   "metadata": {
    "slideshow": {
     "slide_type": "subslide"
    }
   },
   "outputs": [
    {
     "name": "stdout",
     "output_type": "stream",
     "text": [
      "bank.n.01: sloping land (especially the slope beside a body of water)\n",
      "\n",
      "depository_financial_institution.n.01: a financial institution that accepts deposits and channels the money into lending activities\n",
      "\n",
      "bank.n.03: a long ridge or pile\n",
      "\n",
      "bank.n.04: an arrangement of similar objects in a row or in tiers\n",
      "\n",
      "bank.n.05: a supply or stock held in reserve for future use (especially in emergencies)\n",
      "\n",
      "bank.n.06: the funds held by a gambling house or the dealer in some gambling games\n",
      "\n",
      "bank.n.07: a slope in the turn of a road or track; the outside is higher than the inside in order to reduce the effects of centrifugal force\n",
      "\n",
      "savings_bank.n.02: a container (usually with a slot in the top) for keeping money at home\n",
      "\n",
      "bank.n.09: a building in which the business of banking transacted\n",
      "\n",
      "bank.n.10: a flight maneuver; aircraft tips laterally about its longitudinal axis (especially in turning)\n",
      "\n",
      "bank.v.01: tip laterally\n",
      "\n",
      "bank.v.02: enclose with a bank\n",
      "\n",
      "bank.v.03: do business with a bank or keep an account at a bank\n",
      "\n",
      "bank.v.04: act as the banker in a game or in gambling\n",
      "\n",
      "bank.v.05: be in the banking business\n",
      "\n",
      "deposit.v.02: put into a bank account\n",
      "\n",
      "bank.v.07: cover with ashes so to control the rate of burning\n",
      "\n",
      "trust.v.01: have confidence or faith in\n",
      "\n"
     ]
    }
   ],
   "source": [
    "## With \"bank\", we can print out the definition of each synset\n",
    "for ss in bank_synsets:\n",
    "    print(\"{name}: {definition}\\n\".format(name = ss.name(), definition = ss.definition()))"
   ]
  },
  {
   "cell_type": "code",
   "execution_count": 40,
   "metadata": {
    "slideshow": {
     "slide_type": "subslide"
    }
   },
   "outputs": [
    {
     "data": {
      "text/plain": [
       "['they pulled the canoe up on the bank',\n",
       " 'he sat on the bank of the river and watched the currents']"
      ]
     },
     "execution_count": 40,
     "metadata": {},
     "output_type": "execute_result"
    }
   ],
   "source": [
    "## Some synsets are also annotated with examples\n",
    "wn.synset('bank.n.01').examples()"
   ]
  },
  {
   "cell_type": "code",
   "execution_count": 41,
   "metadata": {
    "slideshow": {
     "slide_type": "subslide"
    }
   },
   "outputs": [
    {
     "data": {
      "text/plain": [
       "['he cashed a check at the bank', 'that bank holds the mortgage on my home']"
      ]
     },
     "execution_count": 41,
     "metadata": {},
     "output_type": "execute_result"
    }
   ],
   "source": [
    "## Some synsets are also annotated with examples\n",
    "wn.synset('bank.n.02').examples()"
   ]
  },
  {
   "cell_type": "code",
   "execution_count": 42,
   "metadata": {
    "slideshow": {
     "slide_type": "subslide"
    }
   },
   "outputs": [
    {
     "data": {
      "text/plain": [
       "[Synset('financial_institution.n.01')]"
      ]
     },
     "execution_count": 42,
     "metadata": {},
     "output_type": "execute_result"
    }
   ],
   "source": [
    "## Synsets also have hypernyms and hyponyms\n",
    "wn.synset('bank.n.02').hypernyms()"
   ]
  },
  {
   "cell_type": "code",
   "execution_count": 43,
   "metadata": {
    "slideshow": {
     "slide_type": "subslide"
    }
   },
   "outputs": [
    {
     "data": {
      "text/plain": [
       "[Synset('acquirer.n.02'),\n",
       " Synset('agent_bank.n.02'),\n",
       " Synset('commercial_bank.n.01'),\n",
       " Synset('credit_union.n.01'),\n",
       " Synset('federal_reserve_bank.n.01'),\n",
       " Synset('home_loan_bank.n.01'),\n",
       " Synset('lead_bank.n.01'),\n",
       " Synset('member_bank.n.01'),\n",
       " Synset('merchant_bank.n.01'),\n",
       " Synset('state_bank.n.01'),\n",
       " Synset('thrift_institution.n.01')]"
      ]
     },
     "execution_count": 43,
     "metadata": {},
     "output_type": "execute_result"
    }
   ],
   "source": [
    "## Synsets also have hypernyms and hyponyms\n",
    "wn.synset('bank.n.02').hyponyms()"
   ]
  },
  {
   "cell_type": "markdown",
   "metadata": {
    "slideshow": {
     "slide_type": "subslide"
    }
   },
   "source": [
    "#### Measuring distance between synsets\n",
    "\n",
    "Importantly, WordNet's synsets are structured in a taxonomy. So we can measure the distance between different synsets in a couple ways."
   ]
  },
  {
   "cell_type": "code",
   "execution_count": 44,
   "metadata": {
    "slideshow": {
     "slide_type": "subslide"
    }
   },
   "outputs": [
    {
     "data": {
      "text/plain": [
       "0.07692307692307693"
      ]
     },
     "execution_count": 44,
     "metadata": {},
     "output_type": "execute_result"
    }
   ],
   "source": [
    "## \"Path similarity\" identifies the shortest path between the two synsets in the taxonomy \n",
    "wn.synset('bank.n.02').path_similarity(wn.synset('bank.n.01'))"
   ]
  },
  {
   "cell_type": "code",
   "execution_count": 45,
   "metadata": {
    "slideshow": {
     "slide_type": "subslide"
    }
   },
   "outputs": [
    {
     "data": {
      "text/plain": [
       "0.5"
      ]
     },
     "execution_count": 45,
     "metadata": {},
     "output_type": "execute_result"
    }
   ],
   "source": [
    "## \"Path similarity\" identifies the shortest path between the two synsets in the taxonomy \n",
    "wn.synset('bank.n.02').path_similarity(wn.synset('acquirer.n.02'))"
   ]
  },
  {
   "cell_type": "markdown",
   "metadata": {
    "slideshow": {
     "slide_type": "subslide"
    }
   },
   "source": [
    "#### Calculating polysemy\n",
    "\n",
    "What if you want to get an estimate of how many meanings each unique word in a lexicon has?"
   ]
  },
  {
   "cell_type": "code",
   "execution_count": 46,
   "metadata": {
    "slideshow": {
     "slide_type": "subslide"
    }
   },
   "outputs": [],
   "source": [
    "### if you want to look at all words in (English) WordNet, you can call this function:\n",
    "words = list(wn.words())"
   ]
  },
  {
   "cell_type": "code",
   "execution_count": 47,
   "metadata": {
    "slideshow": {
     "slide_type": "subslide"
    }
   },
   "outputs": [
    {
     "name": "stderr",
     "output_type": "stream",
     "text": [
      "100%|██████████| 147306/147306 [00:13<00:00, 10763.93it/s]\n"
     ]
    }
   ],
   "source": [
    "## Now we could count the number of senses for each word!\n",
    "senses = []\n",
    "for w in tqdm(words):\n",
    "    for ss in wn.synsets(w):\n",
    "        senses.append({\n",
    "            'word': w,\n",
    "            'sense': ss.name(),\n",
    "            'definition': ss.definition()\n",
    "        })"
   ]
  },
  {
   "cell_type": "code",
   "execution_count": 48,
   "metadata": {
    "slideshow": {
     "slide_type": "subslide"
    }
   },
   "outputs": [
    {
     "data": {
      "text/html": [
       "<div>\n",
       "<style scoped>\n",
       "    .dataframe tbody tr th:only-of-type {\n",
       "        vertical-align: middle;\n",
       "    }\n",
       "\n",
       "    .dataframe tbody tr th {\n",
       "        vertical-align: top;\n",
       "    }\n",
       "\n",
       "    .dataframe thead th {\n",
       "        text-align: right;\n",
       "    }\n",
       "</style>\n",
       "<table border=\"1\" class=\"dataframe\">\n",
       "  <thead>\n",
       "    <tr style=\"text-align: right;\">\n",
       "      <th></th>\n",
       "      <th>definition</th>\n",
       "      <th>sense</th>\n",
       "      <th>word</th>\n",
       "    </tr>\n",
       "  </thead>\n",
       "  <tbody>\n",
       "    <tr>\n",
       "      <th>153644</th>\n",
       "      <td>the time of a particular event</td>\n",
       "      <td>occasion.n.04</td>\n",
       "      <td>occasion</td>\n",
       "    </tr>\n",
       "    <tr>\n",
       "      <th>3123</th>\n",
       "      <td>feeling shame or guilt or embarrassment or rem...</td>\n",
       "      <td>ashamed.a.01</td>\n",
       "      <td>ashamed</td>\n",
       "    </tr>\n",
       "    <tr>\n",
       "      <th>171882</th>\n",
       "      <td>cut a rebate in (timber or stone)</td>\n",
       "      <td>rebate.v.02</td>\n",
       "      <td>rebate</td>\n",
       "    </tr>\n",
       "    <tr>\n",
       "      <th>39898</th>\n",
       "      <td>having feet that turn outward</td>\n",
       "      <td>splayfooted.a.01</td>\n",
       "      <td>splayfooted</td>\n",
       "    </tr>\n",
       "    <tr>\n",
       "      <th>114627</th>\n",
       "      <td>genus of shrubs or herbs of tropical Asia and ...</td>\n",
       "      <td>genus_lespedeza.n.01</td>\n",
       "      <td>genus_lespedeza</td>\n",
       "    </tr>\n",
       "  </tbody>\n",
       "</table>\n",
       "</div>"
      ],
      "text/plain": [
       "                                               definition  \\\n",
       "153644                     the time of a particular event   \n",
       "3123    feeling shame or guilt or embarrassment or rem...   \n",
       "171882                  cut a rebate in (timber or stone)   \n",
       "39898                       having feet that turn outward   \n",
       "114627  genus of shrubs or herbs of tropical Asia and ...   \n",
       "\n",
       "                       sense             word  \n",
       "153644         occasion.n.04         occasion  \n",
       "3123            ashamed.a.01          ashamed  \n",
       "171882           rebate.v.02           rebate  \n",
       "39898       splayfooted.a.01      splayfooted  \n",
       "114627  genus_lespedeza.n.01  genus_lespedeza  "
      ]
     },
     "execution_count": 48,
     "metadata": {},
     "output_type": "execute_result"
    }
   ],
   "source": [
    "## They've got some random words in here!\n",
    "df_senses = pd.DataFrame(senses)\n",
    "df_senses.sample(5, random_state = 42)"
   ]
  },
  {
   "cell_type": "code",
   "execution_count": 49,
   "metadata": {
    "slideshow": {
     "slide_type": "subslide"
    }
   },
   "outputs": [
    {
     "data": {
      "text/plain": [
       "227733"
      ]
     },
     "execution_count": 49,
     "metadata": {},
     "output_type": "execute_result"
    }
   ],
   "source": [
    "## Lots of meanings in WordNet:\n",
    "len(df_senses)"
   ]
  },
  {
   "cell_type": "code",
   "execution_count": 50,
   "metadata": {
    "slideshow": {
     "slide_type": "subslide"
    }
   },
   "outputs": [
    {
     "data": {
      "text/plain": [
       "147306"
      ]
     },
     "execution_count": 50,
     "metadata": {},
     "output_type": "execute_result"
    }
   ],
   "source": [
    "## But if we collapse across multiple senses of a word, we can count a word's polysemy\n",
    "## Group by each unique word, and count number of entries for that word\n",
    "df_collapsed = df_senses.groupby('word').count().reset_index()  \n",
    "len(df_collapsed) ## Should be #words"
   ]
  },
  {
   "cell_type": "code",
   "execution_count": 51,
   "metadata": {
    "slideshow": {
     "slide_type": "subslide"
    }
   },
   "outputs": [
    {
     "data": {
      "text/plain": [
       "1.545985906887703"
      ]
     },
     "execution_count": 51,
     "metadata": {},
     "output_type": "execute_result"
    }
   ],
   "source": [
    "## About 1.5 meanings per word\n",
    "df_collapsed['sense'].mean()"
   ]
  },
  {
   "cell_type": "code",
   "execution_count": 52,
   "metadata": {
    "slideshow": {
     "slide_type": "subslide"
    }
   },
   "outputs": [
    {
     "data": {
      "text/plain": [
       "75"
      ]
     },
     "execution_count": 52,
     "metadata": {},
     "output_type": "execute_result"
    }
   ],
   "source": [
    "## The most polysemous word has 75 meanings!\n",
    "df_collapsed['sense'].max()"
   ]
  },
  {
   "cell_type": "code",
   "execution_count": 53,
   "metadata": {
    "slideshow": {
     "slide_type": "subslide"
    }
   },
   "outputs": [
    {
     "data": {
      "text/html": [
       "<div>\n",
       "<style scoped>\n",
       "    .dataframe tbody tr th:only-of-type {\n",
       "        vertical-align: middle;\n",
       "    }\n",
       "\n",
       "    .dataframe tbody tr th {\n",
       "        vertical-align: top;\n",
       "    }\n",
       "\n",
       "    .dataframe thead th {\n",
       "        text-align: right;\n",
       "    }\n",
       "</style>\n",
       "<table border=\"1\" class=\"dataframe\">\n",
       "  <thead>\n",
       "    <tr style=\"text-align: right;\">\n",
       "      <th></th>\n",
       "      <th>word</th>\n",
       "      <th>definition</th>\n",
       "      <th>sense</th>\n",
       "    </tr>\n",
       "  </thead>\n",
       "  <tbody>\n",
       "    <tr>\n",
       "      <th>17074</th>\n",
       "      <td>break</td>\n",
       "      <td>75</td>\n",
       "      <td>75</td>\n",
       "    </tr>\n",
       "    <tr>\n",
       "      <th>17598</th>\n",
       "      <td>broken</td>\n",
       "      <td>72</td>\n",
       "      <td>72</td>\n",
       "    </tr>\n",
       "    <tr>\n",
       "      <th>32687</th>\n",
       "      <td>cut</td>\n",
       "      <td>70</td>\n",
       "      <td>70</td>\n",
       "    </tr>\n",
       "    <tr>\n",
       "      <th>17597</th>\n",
       "      <td>broke</td>\n",
       "      <td>60</td>\n",
       "      <td>60</td>\n",
       "    </tr>\n",
       "    <tr>\n",
       "      <th>17122</th>\n",
       "      <td>breaking</td>\n",
       "      <td>60</td>\n",
       "      <td>60</td>\n",
       "    </tr>\n",
       "  </tbody>\n",
       "</table>\n",
       "</div>"
      ],
      "text/plain": [
       "           word  definition  sense\n",
       "17074     break          75     75\n",
       "17598    broken          72     72\n",
       "32687       cut          70     70\n",
       "17597     broke          60     60\n",
       "17122  breaking          60     60"
      ]
     },
     "execution_count": 53,
     "metadata": {},
     "output_type": "execute_result"
    }
   ],
   "source": [
    "## Let's view the most polysemous words\n",
    "df_collapsed.sort_values(by = 'sense', ascending = False).head(5)"
   ]
  },
  {
   "cell_type": "code",
   "execution_count": 54,
   "metadata": {
    "slideshow": {
     "slide_type": "subslide"
    }
   },
   "outputs": [],
   "source": [
    "## We could also rank by polysemy, and visualize that distribution\n",
    "df_collapsed['polysemy_rank'] = df_collapsed['sense'].rank(ascending = False)"
   ]
  },
  {
   "cell_type": "code",
   "execution_count": 55,
   "metadata": {
    "slideshow": {
     "slide_type": "subslide"
    }
   },
   "outputs": [
    {
     "name": "stderr",
     "output_type": "stream",
     "text": [
      "/Users/seantrott/anaconda3/lib/python3.7/site-packages/scipy/stats/stats.py:1713: FutureWarning: Using a non-tuple sequence for multidimensional indexing is deprecated; use `arr[tuple(seq)]` instead of `arr[seq]`. In the future this will be interpreted as an array index, `arr[np.array(seq)]`, which will result either in an error or a different result.\n",
      "  return np.add.reduce(sorted[indexer] * weights, axis=axis) / sumval\n"
     ]
    },
    {
     "data": {
      "text/plain": [
       "Text(0, 0.5, '#senses')"
      ]
     },
     "execution_count": 55,
     "metadata": {},
     "output_type": "execute_result"
    },
    {
     "data": {
      "image/png": "[encoded data removed]",
      "text/plain": [
       "<Figure size 432x288 with 1 Axes>"
      ]
     },
     "metadata": {
      "image/png": {
       "height": 263,
       "width": 384
      },
      "needs_background": "light"
     },
     "output_type": "display_data"
    }
   ],
   "source": [
    "sns.lineplot(data = df_collapsed[df_collapsed['polysemy_rank']<1000],\n",
    "            x = 'polysemy_rank',\n",
    "            y = 'sense')\n",
    "\n",
    "plt.xlabel(\"Rank(#senses)\")\n",
    "plt.ylabel(\"#senses\")"
   ]
  },
  {
   "cell_type": "markdown",
   "metadata": {
    "slideshow": {
     "slide_type": "slide"
    }
   },
   "source": [
    "## Using `spaCy`\n",
    "\n",
    "Like `nltk`, `spaCy` has great [documentation](https://spacy.io/). Here, I'll just show a couple of the cool things you can do with this library:\n",
    "\n",
    "- Producing a dependency parse of a sentence  \n",
    "- Getting the noun phrases in a sentence"
   ]
  },
  {
   "cell_type": "code",
   "execution_count": 56,
   "metadata": {
    "slideshow": {
     "slide_type": "subslide"
    }
   },
   "outputs": [],
   "source": [
    "import spacy"
   ]
  },
  {
   "cell_type": "code",
   "execution_count": 58,
   "metadata": {
    "slideshow": {
     "slide_type": "subslide"
    }
   },
   "outputs": [],
   "source": [
    "## Load English spacy---you can also use spaCy for \n",
    "## German, Dutch, and other languages (https://spacy.io/models)\n",
    "nlp = spacy.load(\"en\")"
   ]
  },
  {
   "cell_type": "markdown",
   "metadata": {
    "slideshow": {
     "slide_type": "subslide"
    }
   },
   "source": [
    "### Producing and visualizing dependency parses\n",
    "\n",
    "Producing a dependency parse is strikingly straightforward! \n",
    "\n",
    "Just pass a string into the `nlp` object. The `displacy` function can be used to display the parsed sentence."
   ]
  },
  {
   "cell_type": "code",
   "execution_count": 59,
   "metadata": {
    "slideshow": {
     "slide_type": "subslide"
    }
   },
   "outputs": [],
   "source": [
    "from spacy import displacy"
   ]
  },
  {
   "cell_type": "code",
   "execution_count": 60,
   "metadata": {
    "slideshow": {
     "slide_type": "subslide"
    }
   },
   "outputs": [],
   "source": [
    "doc = nlp(\"The man went to the store\")"
   ]
  },
  {
   "cell_type": "code",
   "execution_count": 62,
   "metadata": {
    "slideshow": {
     "slide_type": "subslide"
    }
   },
   "outputs": [
    {
     "data": {
      "text/html": [
       "<svg xmlns=\"http://www.w3.org/2000/svg\" xmlns:xlink=\"http://www.w3.org/1999/xlink\" xml:lang=\"en\" id=\"e30de7dbd0ff40d190328411b1cedd33-0\" class=\"displacy\" width=\"950\" height=\"287.0\" direction=\"ltr\" style=\"max-width: none; height: 287.0px; color: #000000; background: #ffffff; font-family: Arial; direction: ltr\">\n",
       "<text class=\"displacy-token\" fill=\"currentColor\" text-anchor=\"middle\" y=\"197.0\">\n",
       "    <tspan class=\"displacy-word\" fill=\"currentColor\" x=\"50\">The</tspan>\n",
       "    <tspan class=\"displacy-tag\" dy=\"2em\" fill=\"currentColor\" x=\"50\">DET</tspan>\n",
       "</text>\n",
       "\n",
       "<text class=\"displacy-token\" fill=\"currentColor\" text-anchor=\"middle\" y=\"197.0\">\n",
       "    <tspan class=\"displacy-word\" fill=\"currentColor\" x=\"200\">man</tspan>\n",
       "    <tspan class=\"displacy-tag\" dy=\"2em\" fill=\"currentColor\" x=\"200\">NOUN</tspan>\n",
       "</text>\n",
       "\n",
       "<text class=\"displacy-token\" fill=\"currentColor\" text-anchor=\"middle\" y=\"197.0\">\n",
       "    <tspan class=\"displacy-word\" fill=\"currentColor\" x=\"350\">went</tspan>\n",
       "    <tspan class=\"displacy-tag\" dy=\"2em\" fill=\"currentColor\" x=\"350\">VERB</tspan>\n",
       "</text>\n",
       "\n",
       "<text class=\"displacy-token\" fill=\"currentColor\" text-anchor=\"middle\" y=\"197.0\">\n",
       "    <tspan class=\"displacy-word\" fill=\"currentColor\" x=\"500\">to</tspan>\n",
       "    <tspan class=\"displacy-tag\" dy=\"2em\" fill=\"currentColor\" x=\"500\">ADP</tspan>\n",
       "</text>\n",
       "\n",
       "<text class=\"displacy-token\" fill=\"currentColor\" text-anchor=\"middle\" y=\"197.0\">\n",
       "    <tspan class=\"displacy-word\" fill=\"currentColor\" x=\"650\">the</tspan>\n",
       "    <tspan class=\"displacy-tag\" dy=\"2em\" fill=\"currentColor\" x=\"650\">DET</tspan>\n",
       "</text>\n",
       "\n",
       "<text class=\"displacy-token\" fill=\"currentColor\" text-anchor=\"middle\" y=\"197.0\">\n",
       "    <tspan class=\"displacy-word\" fill=\"currentColor\" x=\"800\">store</tspan>\n",
       "    <tspan class=\"displacy-tag\" dy=\"2em\" fill=\"currentColor\" x=\"800\">NOUN</tspan>\n",
       "</text>\n",
       "\n",
       "<g class=\"displacy-arrow\">\n",
       "    <path class=\"displacy-arc\" id=\"arrow-e30de7dbd0ff40d190328411b1cedd33-0-0\" stroke-width=\"2px\" d=\"M62,152.0 62,127.0 197.0,127.0 197.0,152.0\" fill=\"none\" stroke=\"currentColor\"/>\n",
       "    <text dy=\"1.25em\" style=\"font-size: 0.8em; letter-spacing: 1px\">\n",
       "        <textPath xlink:href=\"#arrow-e30de7dbd0ff40d190328411b1cedd33-0-0\" class=\"displacy-label\" startOffset=\"50%\" side=\"left\" fill=\"currentColor\" text-anchor=\"middle\">det</textPath>\n",
       "    </text>\n",
       "    <path class=\"displacy-arrowhead\" d=\"M62,154.0 L58,146.0 66,146.0\" fill=\"currentColor\"/>\n",
       "</g>\n",
       "\n",
       "<g class=\"displacy-arrow\">\n",
       "    <path class=\"displacy-arc\" id=\"arrow-e30de7dbd0ff40d190328411b1cedd33-0-1\" stroke-width=\"2px\" d=\"M212,152.0 212,127.0 347.0,127.0 347.0,152.0\" fill=\"none\" stroke=\"currentColor\"/>\n",
       "    <text dy=\"1.25em\" style=\"font-size: 0.8em; letter-spacing: 1px\">\n",
       "        <textPath xlink:href=\"#arrow-e30de7dbd0ff40d190328411b1cedd33-0-1\" class=\"displacy-label\" startOffset=\"50%\" side=\"left\" fill=\"currentColor\" text-anchor=\"middle\">nsubj</textPath>\n",
       "    </text>\n",
       "    <path class=\"displacy-arrowhead\" d=\"M212,154.0 L208,146.0 216,146.0\" fill=\"currentColor\"/>\n",
       "</g>\n",
       "\n",
       "<g class=\"displacy-arrow\">\n",
       "    <path class=\"displacy-arc\" id=\"arrow-e30de7dbd0ff40d190328411b1cedd33-0-2\" stroke-width=\"2px\" d=\"M362,152.0 362,127.0 497.0,127.0 497.0,152.0\" fill=\"none\" stroke=\"currentColor\"/>\n",
       "    <text dy=\"1.25em\" style=\"font-size: 0.8em; letter-spacing: 1px\">\n",
       "        <textPath xlink:href=\"#arrow-e30de7dbd0ff40d190328411b1cedd33-0-2\" class=\"displacy-label\" startOffset=\"50%\" side=\"left\" fill=\"currentColor\" text-anchor=\"middle\">prep</textPath>\n",
       "    </text>\n",
       "    <path class=\"displacy-arrowhead\" d=\"M497.0,154.0 L501.0,146.0 493.0,146.0\" fill=\"currentColor\"/>\n",
       "</g>\n",
       "\n",
       "<g class=\"displacy-arrow\">\n",
       "    <path class=\"displacy-arc\" id=\"arrow-e30de7dbd0ff40d190328411b1cedd33-0-3\" stroke-width=\"2px\" d=\"M662,152.0 662,127.0 797.0,127.0 797.0,152.0\" fill=\"none\" stroke=\"currentColor\"/>\n",
       "    <text dy=\"1.25em\" style=\"font-size: 0.8em; letter-spacing: 1px\">\n",
       "        <textPath xlink:href=\"#arrow-e30de7dbd0ff40d190328411b1cedd33-0-3\" class=\"displacy-label\" startOffset=\"50%\" side=\"left\" fill=\"currentColor\" text-anchor=\"middle\">det</textPath>\n",
       "    </text>\n",
       "    <path class=\"displacy-arrowhead\" d=\"M662,154.0 L658,146.0 666,146.0\" fill=\"currentColor\"/>\n",
       "</g>\n",
       "\n",
       "<g class=\"displacy-arrow\">\n",
       "    <path class=\"displacy-arc\" id=\"arrow-e30de7dbd0ff40d190328411b1cedd33-0-4\" stroke-width=\"2px\" d=\"M512,152.0 512,102.0 800.0,102.0 800.0,152.0\" fill=\"none\" stroke=\"currentColor\"/>\n",
       "    <text dy=\"1.25em\" style=\"font-size: 0.8em; letter-spacing: 1px\">\n",
       "        <textPath xlink:href=\"#arrow-e30de7dbd0ff40d190328411b1cedd33-0-4\" class=\"displacy-label\" startOffset=\"50%\" side=\"left\" fill=\"currentColor\" text-anchor=\"middle\">pobj</textPath>\n",
       "    </text>\n",
       "    <path class=\"displacy-arrowhead\" d=\"M800.0,154.0 L804.0,146.0 796.0,146.0\" fill=\"currentColor\"/>\n",
       "</g>\n",
       "</svg>"
      ],
      "text/plain": [
       "<IPython.core.display.HTML object>"
      ]
     },
     "metadata": {},
     "output_type": "display_data"
    }
   ],
   "source": [
    "displacy.render(doc, style=\"dep\", options = {'compact': True})"
   ]
  },
  {
   "cell_type": "markdown",
   "metadata": {
    "slideshow": {
     "slide_type": "subslide"
    }
   },
   "source": [
    "### Unpacking this result\n",
    "\n",
    "This is a **dependency parse**.\n",
    "\n",
    "That is, each word token is labeled with a **directed link** to or from another word (and is also labeled with a part of speech).  \n",
    "\n",
    "If you want to access these labels (rather than just visualize them), you can iterate through the `doc` object:"
   ]
  },
  {
   "cell_type": "code",
   "execution_count": 63,
   "metadata": {
    "slideshow": {
     "slide_type": "subslide"
    }
   },
   "outputs": [
    {
     "name": "stdout",
     "output_type": "stream",
     "text": [
      "Word: The, \n",
      "  POS: DET, \n",
      "  Head: man, \n",
      "  Dependency label: det\n",
      "Word: man, \n",
      "  POS: NOUN, \n",
      "  Head: went, \n",
      "  Dependency label: nsubj\n",
      "Word: went, \n",
      "  POS: VERB, \n",
      "  Head: went, \n",
      "  Dependency label: ROOT\n",
      "Word: to, \n",
      "  POS: ADP, \n",
      "  Head: went, \n",
      "  Dependency label: prep\n",
      "Word: the, \n",
      "  POS: DET, \n",
      "  Head: store, \n",
      "  Dependency label: det\n",
      "Word: store, \n",
      "  POS: NOUN, \n",
      "  Head: to, \n",
      "  Dependency label: pobj\n"
     ]
    }
   ],
   "source": [
    "for i in doc:\n",
    "    print(\"Word: {w}, \\n  POS: {pos}, \\n  Head: {head}, \\n  Dependency label: {dep}\".format(\n",
    "    w = i.text, pos = i.pos_, dep = i.dep_, head = i.head))"
   ]
  },
  {
   "cell_type": "markdown",
   "metadata": {
    "slideshow": {
     "slide_type": "subslide"
    }
   },
   "source": [
    "### Noun phrases\n",
    "\n",
    "We can also use this `doc` object to return all the noun phrases (`noun_chunks`) in a given string."
   ]
  },
  {
   "cell_type": "code",
   "execution_count": 64,
   "metadata": {
    "slideshow": {
     "slide_type": "subslide"
    }
   },
   "outputs": [
    {
     "name": "stdout",
     "output_type": "stream",
     "text": [
      "The man\n",
      "  Root: man\n",
      "  Root POS: NN\n",
      "  Determiner: The\n",
      "  Determiner POS: DT\n",
      "the store\n",
      "  Root: store\n",
      "  Root POS: NN\n",
      "  Determiner: the\n",
      "  Determiner POS: DT\n"
     ]
    }
   ],
   "source": [
    "for nc in doc.noun_chunks:\n",
    "    print(nc.text)\n",
    "    print(\"  Root: \" + nc.root.text)\n",
    "    print(\"  Root POS: \" + nc.root.tag_)\n",
    "    print(\"  Determiner: \" + nc[0].text)\n",
    "    print(\"  Determiner POS: \" + nc[0].tag_)"
   ]
  },
  {
   "cell_type": "markdown",
   "metadata": {
    "slideshow": {
     "slide_type": "slide"
    }
   },
   "source": [
    "# Conclusion\n",
    "\n",
    "To sum up what we've learned:\n",
    "\n",
    "- **Part 1** introduced some lexical resources that might be of use.  \n",
    "- **Part 2** introduced some basic text processing methods.  \n",
    "- **Part 3** introduced two Python packages, `nltk` and `spacy`, that can help with text processing.\n",
    "\n",
    "This is only the tip of the iceberg, but hopefully it helps you get started doing text processing in Python!"
   ]
  },
  {
   "cell_type": "code",
   "execution_count": null,
   "metadata": {},
   "outputs": [],
   "source": []
  }
 ],
 "metadata": {
  "celltoolbar": "Slideshow",
  "kernelspec": {
   "display_name": "Python 3",
   "language": "python",
   "name": "python3"
  },
  "language_info": {
   "codemirror_mode": {
    "name": "ipython",
    "version": 3
   },
   "file_extension": ".py",
   "mimetype": "text/x-python",
   "name": "python",
   "nbconvert_exporter": "python",
   "pygments_lexer": "ipython3",
   "version": "3.7.1"
  }
 },
 "nbformat": 4,
 "nbformat_minor": 2
}
